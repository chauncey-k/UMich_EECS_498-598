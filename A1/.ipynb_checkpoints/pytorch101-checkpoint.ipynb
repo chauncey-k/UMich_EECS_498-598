{
 "cells": [
  {
   "cell_type": "markdown",
   "metadata": {
    "id": "QcJK3kXl--c3"
   },
   "source": [
    "# EECS 498-007/598-005 Assignment 1-1: PyTorch 101\n",
    "\n",
    "Before we start, please put your name and UMID in following format\n",
    "\n",
    ": Firstname LASTNAME, #00000000   //   e.g.) Justin JOHNSON, #12345678"
   ]
  },
  {
   "cell_type": "markdown",
   "metadata": {
    "id": "7sA2iBcm_cPb"
   },
   "source": [
    "**Your Answer:**   \n",
    "Chauncey, #88888888"
   ]
  },
  {
   "cell_type": "markdown",
   "metadata": {
    "id": "kQndOAmiVTO3"
   },
   "source": [
    "# Setup Code\n",
    "Before getting started we need to run some boilerplate code to set up our environment. You'll need to rerun this setup code each time you start the notebook.\n",
    "\n",
    "First, run this cell load the [autoreload](https://ipython.readthedocs.io/en/stable/config/extensions/autoreload.html?highlight=autoreload) extension. This allows us to edit `.py` source files, and re-import them into the notebook for a seamless editing and debugging experience."
   ]
  },
  {
   "cell_type": "code",
   "execution_count": 146,
   "metadata": {
    "colab": {
     "base_uri": "https://localhost:8080/"
    },
    "executionInfo": {
     "elapsed": 372,
     "status": "ok",
     "timestamp": 1721806653435,
     "user": {
      "displayName": "K Chauncey",
      "userId": "01082062638203565386"
     },
     "user_tz": -480
    },
    "id": "H5PzjwH7VTO4",
    "outputId": "374e93a8-6827-4ac2-fb7e-8ec75106d83c"
   },
   "outputs": [
    {
     "name": "stdout",
     "output_type": "stream",
     "text": [
      "The autoreload extension is already loaded. To reload it, use:\n",
      "  %reload_ext autoreload\n"
     ]
    }
   ],
   "source": [
    "%load_ext autoreload\n",
    "%autoreload 2"
   ]
  },
  {
   "cell_type": "markdown",
   "metadata": {
    "id": "bCtoiSyVVTO8"
   },
   "source": [
    "### Google Colab Setup\n",
    "Next we need to run a few commands to set up our environment on Google Colab. If you are running this notebook on a local machine you can skip this section.\n",
    "\n",
    "Run the following cell to mount your Google Drive. Follow the link, sign in to your Google account (the same account you used to store this notebook!) and copy the authorization code into the text box that appears below."
   ]
  },
  {
   "cell_type": "code",
   "execution_count": 147,
   "metadata": {
    "colab": {
     "base_uri": "https://localhost:8080/"
    },
    "executionInfo": {
     "elapsed": 2477,
     "status": "ok",
     "timestamp": 1721806659066,
     "user": {
      "displayName": "K Chauncey",
      "userId": "01082062638203565386"
     },
     "user_tz": -480
    },
    "id": "tHG0slB6VTO8",
    "outputId": "f8692606-75c5-4d60-db26-26dac1e0d106"
   },
   "outputs": [
    {
     "name": "stdout",
     "output_type": "stream",
     "text": [
      "Drive already mounted at /content/drive; to attempt to forcibly remount, call drive.mount(\"/content/drive\", force_remount=True).\n"
     ]
    }
   ],
   "source": [
    "from google.colab import drive\n",
    "drive.mount('/content/drive')"
   ]
  },
  {
   "cell_type": "markdown",
   "metadata": {
    "id": "UWjXo-vXVTO_"
   },
   "source": [
    "Now recall the path in your Google Drive where you uploaded this notebook, fill it in below. If everything is working correctly then running the folowing cell should print the filenames from the assignment:\n",
    "\n",
    "```\n",
    "['pytorch101.py', 'knn.py', 'knn.ipynb', 'eecs598', 'pytorch101.ipynb']\n",
    "```"
   ]
  },
  {
   "cell_type": "code",
   "execution_count": 149,
   "metadata": {
    "colab": {
     "base_uri": "https://localhost:8080/"
    },
    "executionInfo": {
     "elapsed": 3,
     "status": "ok",
     "timestamp": 1721806686731,
     "user": {
      "displayName": "K Chauncey",
      "userId": "01082062638203565386"
     },
     "user_tz": -480
    },
    "id": "KqMvJnNHVTPA",
    "outputId": "919ba2e3-9a02-4371-d3b3-64c059909397"
   },
   "outputs": [
    {
     "name": "stdout",
     "output_type": "stream",
     "text": [
      "['knn.py', 'knn.ipynb', '.DS_Store', 'eecs598', '__pycache__', 'pytorch101.py', 'pytorch101.ipynb']\n"
     ]
    }
   ],
   "source": [
    "import os\n",
    "\n",
    "# TODO: Fill in the Google Drive path where you uploaded the assignment\n",
    "# Example: If you create a 2020FA folder and put all the files under A1 folder, then '2020FA/A1'\n",
    "# GOOGLE_DRIVE_PATH_AFTER_MYDRIVE = '2020FA/A1'\n",
    "GOOGLE_DRIVE_PATH_AFTER_MYDRIVE = 'UMich/A1'\n",
    "GOOGLE_DRIVE_PATH = os.path.join('drive', 'My Drive', GOOGLE_DRIVE_PATH_AFTER_MYDRIVE)\n",
    "print(os.listdir(GOOGLE_DRIVE_PATH))"
   ]
  },
  {
   "cell_type": "markdown",
   "metadata": {
    "id": "ko-wLqHWVTPC"
   },
   "source": [
    "Once you have successfully mounted your Google Drive and located the path to this assignment, run the following cell to allow us to import from the `.py` files of this assignment. If it works correctly, it should print the message:\n",
    "\n",
    "```\n",
    "Hello from pytorch101.py!\n",
    "```\n",
    "\n",
    "as well as the last edit time for the file `pytorch101.py`."
   ]
  },
  {
   "cell_type": "code",
   "execution_count": 150,
   "metadata": {
    "colab": {
     "base_uri": "https://localhost:8080/"
    },
    "executionInfo": {
     "elapsed": 357,
     "status": "ok",
     "timestamp": 1721806691313,
     "user": {
      "displayName": "K Chauncey",
      "userId": "01082062638203565386"
     },
     "user_tz": -480
    },
    "id": "1AoThF9eVTPD",
    "outputId": "84676e02-65b0-4bd8-896f-4062412ffcc3"
   },
   "outputs": [
    {
     "name": "stdout",
     "output_type": "stream",
     "text": [
      "Hello from pytorch101.py!\n",
      "pytorch101.py last edited on Wed Jul 24 03:15:47 2024\n"
     ]
    }
   ],
   "source": [
    "import sys\n",
    "sys.path.append(GOOGLE_DRIVE_PATH)\n",
    "\n",
    "import time, os\n",
    "os.environ[\"TZ\"] = \"US/Eastern\"\n",
    "time.tzset()\n",
    "\n",
    "from pytorch101 import hello\n",
    "hello()\n",
    "\n",
    "pytorch101_path = os.path.join(GOOGLE_DRIVE_PATH, 'pytorch101.py')\n",
    "pytorch101_edit_time = time.ctime(os.path.getmtime(pytorch101_path))\n",
    "print('pytorch101.py last edited on %s' % pytorch101_edit_time)"
   ]
  },
  {
   "cell_type": "markdown",
   "metadata": {
    "id": "Qc83ETI1a3o9"
   },
   "source": [
    "# Introduction\n",
    "\n",
    "Python 3 and [PyTorch](https://pytorch.org/) will be used throughout the semseter, so it is important to be familiar with them. This material in this notebook draws from the [Stanford CS231n](http://cs231n.github.io/python-numpy-tutorial/) and [CS228](https://github.com/kuleshov/cs228-material/blob/master/tutorials/python/cs228-python-tutorial.ipynb) Python and numpy tutorials, but this material focuses mainly on PyTorch.\n",
    "\n",
    "This notebook will walk you through many of the important features of PyTorch that you will need to use throughout the semester. In some cells and files you will see code blocks that look like this:\n",
    "\n",
    "```python\n",
    "##############################################################################\n",
    "#                    TODO: Write the equation for a line                     #\n",
    "##############################################################################\n",
    "pass\n",
    "##############################################################################\n",
    "#                              END OF YOUR CODE                              #\n",
    "##############################################################################\n",
    "```\n",
    "\n",
    "You should replace the `pass` statement with your own code and leave the blocks intact, like this:\n",
    "\n",
    "```python\n",
    "##############################################################################\n",
    "#                    TODO: Write the equation for a line                     #\n",
    "##############################################################################\n",
    "y = m * x + b\n",
    "##############################################################################\n",
    "#                              END OF YOUR CODE                              #\n",
    "##############################################################################\n",
    "```\n",
    "\n",
    "When completing the notebook, please adhere to the following rules:\n",
    "- Do not write or modify any code outside of code blocks\n",
    "- Do not add or delete any cells from the notebook. You may add new cells to perform scatch work, but delete them before submitting.\n",
    "- Run all cells before submitting. **You will only get credit for code that has been run!**.\n",
    "\n",
    "The last point is extremely important and bears repeating:\n",
    "\n",
    "### We will not re-run your notebook -- you will only get credit for cells that have been run\n",
    "\n",
    "This notebook contains many inline sanity checks for the code you write. However, **passing these sanity checks does not mean your code is correct!** During grading we may run your code on additional inputs, and we may look at your code to make sure you've followed the specific guildelines for each implementation. You are encouraged to write additional test cases for the functions you are asked to write instead of solely relying on the sanity checks in the notebook."
   ]
  },
  {
   "cell_type": "markdown",
   "metadata": {
    "id": "hQrEwOpXb9Gh"
   },
   "source": [
    "# Python 3\n"
   ]
  },
  {
   "cell_type": "markdown",
   "metadata": {
    "id": "xAKwfCs_mK3d"
   },
   "source": [
    "If you're unfamiliar with Python 3, here are some of the most common changes from Python 2 to look out for.\n"
   ]
  },
  {
   "cell_type": "markdown",
   "metadata": {
    "id": "zjosrOn8mOMV"
   },
   "source": [
    "### Print is a function"
   ]
  },
  {
   "cell_type": "code",
   "execution_count": null,
   "metadata": {
    "colab": {
     "base_uri": "https://localhost:8080/"
    },
    "executionInfo": {
     "elapsed": 430,
     "status": "ok",
     "timestamp": 1721785995663,
     "user": {
      "displayName": "K Chauncey",
      "userId": "01082062638203565386"
     },
     "user_tz": -480
    },
    "id": "O41SjFuamR7d",
    "outputId": "f8e68aac-a618-46b0-a25c-01c3d7e03e09"
   },
   "outputs": [
    {
     "name": "stdout",
     "output_type": "stream",
     "text": [
      "Hello!\n"
     ]
    }
   ],
   "source": [
    "print(\"Hello!\")"
   ]
  },
  {
   "cell_type": "markdown",
   "metadata": {
    "id": "nEh1swLBmQN-"
   },
   "source": [
    "Without parentheses, printing will not work."
   ]
  },
  {
   "cell_type": "markdown",
   "metadata": {
    "id": "OgPaSNS2mVPn"
   },
   "source": [
    "### Floating point division by default"
   ]
  },
  {
   "cell_type": "code",
   "execution_count": null,
   "metadata": {
    "colab": {
     "base_uri": "https://localhost:8080/"
    },
    "executionInfo": {
     "elapsed": 427,
     "status": "ok",
     "timestamp": 1721786005402,
     "user": {
      "displayName": "K Chauncey",
      "userId": "01082062638203565386"
     },
     "user_tz": -480
    },
    "id": "SQKlRZ8KmYDl",
    "outputId": "31c82ecf-1665-4768-f2e8-3126f4de56c3"
   },
   "outputs": [
    {
     "data": {
      "text/plain": [
       "2.5"
      ]
     },
     "execution_count": 7,
     "metadata": {},
     "output_type": "execute_result"
    }
   ],
   "source": [
    "5 / 2"
   ]
  },
  {
   "cell_type": "markdown",
   "metadata": {
    "id": "DOmfK0WWmb2V"
   },
   "source": [
    "To do integer division, we use two backslashes:"
   ]
  },
  {
   "cell_type": "code",
   "execution_count": null,
   "metadata": {
    "colab": {
     "base_uri": "https://localhost:8080/"
    },
    "executionInfo": {
     "elapsed": 2,
     "status": "ok",
     "timestamp": 1721786005811,
     "user": {
      "displayName": "K Chauncey",
      "userId": "01082062638203565386"
     },
     "user_tz": -480
    },
    "id": "UUg1MjiPmgNX",
    "outputId": "25c17d0b-8988-4d1e-8cc5-439c7574a329"
   },
   "outputs": [
    {
     "data": {
      "text/plain": [
       "2"
      ]
     },
     "execution_count": 8,
     "metadata": {},
     "output_type": "execute_result"
    }
   ],
   "source": [
    "5 // 2"
   ]
  },
  {
   "cell_type": "markdown",
   "metadata": {
    "id": "zeH5501nmh7W"
   },
   "source": [
    "### No xrange"
   ]
  },
  {
   "cell_type": "markdown",
   "metadata": {
    "id": "3wNKyyilmkMy"
   },
   "source": [
    "The xrange from Python 2 is now merged into \"range\" for Python 3 and there is no xrange in Python 3. In Python 3, range(3) does not create a list of 3 elements as it would in Python 2, rather just creates a more memory efficient iterator.\n",
    "\n",
    "Hence,  \n",
    "xrange in Python 3: Does not exist  \n",
    "range in Python 3: Has very similar behavior to Python 2's xrange"
   ]
  },
  {
   "cell_type": "code",
   "execution_count": null,
   "metadata": {
    "colab": {
     "base_uri": "https://localhost:8080/"
    },
    "executionInfo": {
     "elapsed": 877,
     "status": "ok",
     "timestamp": 1721786013005,
     "user": {
      "displayName": "K Chauncey",
      "userId": "01082062638203565386"
     },
     "user_tz": -480
    },
    "id": "dP8Dk9PAmnQh",
    "outputId": "4a586126-f2c3-46f7-ebc8-dec26379d759"
   },
   "outputs": [
    {
     "name": "stdout",
     "output_type": "stream",
     "text": [
      "0\n",
      "1\n",
      "2\n"
     ]
    }
   ],
   "source": [
    "for i in range(3):\n",
    "    print(i)"
   ]
  },
  {
   "cell_type": "code",
   "execution_count": null,
   "metadata": {
    "colab": {
     "base_uri": "https://localhost:8080/"
    },
    "executionInfo": {
     "elapsed": 400,
     "status": "ok",
     "timestamp": 1721786016341,
     "user": {
      "displayName": "K Chauncey",
      "userId": "01082062638203565386"
     },
     "user_tz": -480
    },
    "id": "6SKbKDgLmqd-",
    "outputId": "35a54376-7a57-4a52-b249-16fcb60fa207"
   },
   "outputs": [
    {
     "data": {
      "text/plain": [
       "range(0, 3)"
      ]
     },
     "execution_count": 10,
     "metadata": {},
     "output_type": "execute_result"
    }
   ],
   "source": [
    "range(3)"
   ]
  },
  {
   "cell_type": "code",
   "execution_count": null,
   "metadata": {
    "colab": {
     "base_uri": "https://localhost:8080/"
    },
    "executionInfo": {
     "elapsed": 1,
     "status": "ok",
     "timestamp": 1721786018567,
     "user": {
      "displayName": "K Chauncey",
      "userId": "01082062638203565386"
     },
     "user_tz": -480
    },
    "id": "Wm_VcW3VmsSD",
    "outputId": "ed24ec6d-1a60-4984-ed09-8ab006f96fb5"
   },
   "outputs": [
    {
     "name": "stdout",
     "output_type": "stream",
     "text": [
      "[0, 1, 2]\n"
     ]
    }
   ],
   "source": [
    "# If need be, can use the following to get a similar behavior to Python 2's range:\n",
    "print(list(range(3)))"
   ]
  },
  {
   "cell_type": "markdown",
   "metadata": {
    "id": "1MEmHrgBsgX4"
   },
   "source": [
    "# PyTorch"
   ]
  },
  {
   "cell_type": "markdown",
   "metadata": {
    "id": "c3e_Nux0siHo"
   },
   "source": [
    "[PyTorch](https://pytorch.org/) is an open source machine learning framework. At its core, PyTorch provides a few key features:\n",
    "\n",
    "- A multidimensional **Tensor** object, similar to [numpy](https://numpy.org/) but with GPU accelleration.\n",
    "- An optimized **autograd** engine for automatically computing derivatives\n",
    "- A clean, modular API for building and deploying **deep learning models**\n",
    "\n",
    "We will use PyTorch for all programming assignments throughout the semester. This notebook will focus on the **Tensor API**, as it is the main part of PyTorch that we will use for the first few assignments.\n",
    "\n",
    "You can find more information about PyTorch by following one of the [oficial tutorials](https://pytorch.org/tutorials/) or by [reading the documentation](https://pytorch.org/docs/stable/)."
   ]
  },
  {
   "cell_type": "markdown",
   "metadata": {
    "id": "zdiO3_y-vKQ9"
   },
   "source": [
    "To use PyTorch, we first need to import the `torch` package.\n",
    "\n",
    "We also check the version; the assignments in this course will use PyTorch verion 1.10.0, since this is the default version in Google Colab."
   ]
  },
  {
   "cell_type": "code",
   "execution_count": null,
   "metadata": {
    "colab": {
     "base_uri": "https://localhost:8080/"
    },
    "executionInfo": {
     "elapsed": 846,
     "status": "ok",
     "timestamp": 1721786023861,
     "user": {
      "displayName": "K Chauncey",
      "userId": "01082062638203565386"
     },
     "user_tz": -480
    },
    "id": "sydFm14itrqq",
    "outputId": "b5f2b9af-6558-4eb5-8617-31d0e8f4c238"
   },
   "outputs": [
    {
     "name": "stdout",
     "output_type": "stream",
     "text": [
      "2.3.1+cu121\n"
     ]
    }
   ],
   "source": [
    "import torch\n",
    "print(torch.__version__)"
   ]
  },
  {
   "cell_type": "markdown",
   "metadata": {
    "id": "HrBSx6hYu8ca"
   },
   "source": [
    "## Tensor Basics"
   ]
  },
  {
   "cell_type": "markdown",
   "metadata": {
    "id": "LWagwmXuvIle"
   },
   "source": [
    "### Creating and Accessing tensors"
   ]
  },
  {
   "cell_type": "markdown",
   "metadata": {
    "id": "Bf_SY4RzvAh_"
   },
   "source": [
    "A `torch` **tensor** is a multidimensional grid of values, all of the same type, and is indexed by a tuple of nonnegative integers. The number of dimensions is the **rank** of the tensor; the **shape** of a tensor is a tuple of integers giving the size of the array along each dimension.\n",
    "\n",
    "We can initialize `torch` tensor from nested Python lists. We can access or mutate elements of a PyTorch tensor using square brackets.\n",
    "\n",
    "Accessing an element from a PyTorch tensor returns a PyTorch scalar; we can convert this to a Python scalar using the `.item()` method:"
   ]
  },
  {
   "cell_type": "code",
   "execution_count": null,
   "metadata": {
    "colab": {
     "base_uri": "https://localhost:8080/"
    },
    "executionInfo": {
     "elapsed": 892,
     "status": "ok",
     "timestamp": 1721786026778,
     "user": {
      "displayName": "K Chauncey",
      "userId": "01082062638203565386"
     },
     "user_tz": -480
    },
    "id": "IpwfVUvPu_lF",
    "outputId": "1d3cb1e0-1312-41c3-872e-6e81dc05b413"
   },
   "outputs": [
    {
     "name": "stdout",
     "output_type": "stream",
     "text": [
      "Here is a:\n",
      "tensor([1, 2, 3])\n",
      "type(a):  <class 'torch.Tensor'>\n",
      "rank of a:  1\n",
      "a.shape:  torch.Size([3])\n",
      "\n",
      "a[0]:  tensor(1)\n",
      "type(a[0]):  <class 'torch.Tensor'>\n",
      "type(a[0].item()):  <class 'int'>\n",
      "\n",
      "a after mutating:\n",
      "tensor([ 1, 10,  3])\n"
     ]
    }
   ],
   "source": [
    "# Create a rank 1 tensor from a Python list\n",
    "a = torch.tensor([1, 2, 3])\n",
    "print('Here is a:')\n",
    "print(a)\n",
    "print('type(a): ', type(a))\n",
    "print('rank of a: ', a.dim())\n",
    "print('a.shape: ', a.shape)\n",
    "\n",
    "# Access elements using square brackets\n",
    "print()\n",
    "print('a[0]: ', a[0])\n",
    "print('type(a[0]): ', type(a[0]))\n",
    "print('type(a[0].item()): ', type(a[0].item()))\n",
    "\n",
    "# Mutate elements using square brackets\n",
    "a[1] = 10\n",
    "print()\n",
    "print('a after mutating:')\n",
    "print(a)"
   ]
  },
  {
   "cell_type": "markdown",
   "metadata": {
    "id": "FZq4zsnLEgXH"
   },
   "source": [
    "The example above shows a one-dimensional tensor; we can similarly create tensors with two or more dimensions:"
   ]
  },
  {
   "cell_type": "code",
   "execution_count": null,
   "metadata": {
    "colab": {
     "base_uri": "https://localhost:8080/"
    },
    "executionInfo": {
     "elapsed": 854,
     "status": "ok",
     "timestamp": 1721786031355,
     "user": {
      "displayName": "K Chauncey",
      "userId": "01082062638203565386"
     },
     "user_tz": -480
    },
    "id": "7TcvHxpTFUcL",
    "outputId": "2b120816-5bdb-486b-94be-bea08bc46adb"
   },
   "outputs": [
    {
     "name": "stdout",
     "output_type": "stream",
     "text": [
      "Here is b:\n",
      "tensor([[1, 2, 3],\n",
      "        [4, 5, 5]])\n",
      "rank of b: 2\n",
      "b.shape:  torch.Size([2, 3])\n",
      "\n",
      "b[0, 1]: tensor(2)\n",
      "b[1, 2]: tensor(5)\n",
      "\n",
      "b after mutating:\n",
      "tensor([[  1,   2,   3],\n",
      "        [  4, 100,   5]])\n"
     ]
    }
   ],
   "source": [
    "# Create a two-dimensional tensor\n",
    "b = torch.tensor([[1, 2, 3], [4, 5, 5]])\n",
    "print('Here is b:')\n",
    "print(b)\n",
    "print('rank of b:', b.dim())\n",
    "print('b.shape: ', b.shape)\n",
    "\n",
    "# Access elements from a multidimensional tensor\n",
    "print()\n",
    "print('b[0, 1]:', b[0, 1])\n",
    "print('b[1, 2]:', b[1, 2])\n",
    "\n",
    "# Mutate elements of a multidimensional tensor\n",
    "b[1, 1] = 100\n",
    "print()\n",
    "print('b after mutating:')\n",
    "print(b)"
   ]
  },
  {
   "cell_type": "markdown",
   "metadata": {
    "id": "BBOsvh53GXa8"
   },
   "source": [
    "Now it's **your turn**. In the file `pytorch101.py`, complete the implementation of the functions `create_sample_tensor`, `mutate_tensor`, and `count_tensor_elements` to practice constructing, mutating, and thinking about the shapes of tensors."
   ]
  },
  {
   "cell_type": "code",
   "execution_count": null,
   "metadata": {
    "colab": {
     "base_uri": "https://localhost:8080/"
    },
    "executionInfo": {
     "elapsed": 831,
     "status": "ok",
     "timestamp": 1721786036476,
     "user": {
      "displayName": "K Chauncey",
      "userId": "01082062638203565386"
     },
     "user_tz": -480
    },
    "id": "zjCIUzbaVTPs",
    "outputId": "cb27c8f7-55ac-4096-b2e7-b035cc1326db"
   },
   "outputs": [
    {
     "name": "stdout",
     "output_type": "stream",
     "text": [
      "Here is the sample tensor:\n",
      "tensor([[  0.,  10.],\n",
      "        [100.,   0.],\n",
      "        [  0.,   0.]])\n",
      "\n",
      "After mutating:\n",
      "tensor([[ 4., 10.],\n",
      "        [ 5.,  6.],\n",
      "        [ 0.,  0.]])\n",
      "\n",
      "Correct shape:  True\n",
      "x[0, 0] correct:  True\n",
      "x[1, 0] correct:  True\n",
      "x[1, 1] correct:  True\n",
      "\n",
      "Number of elements in x:  6\n",
      "Correctly counted:  True\n"
     ]
    }
   ],
   "source": [
    "from pytorch101 import create_sample_tensor, mutate_tensor, count_tensor_elements\n",
    "\n",
    "# Create a sample tensor\n",
    "x = create_sample_tensor()\n",
    "print('Here is the sample tensor:')\n",
    "print(x)\n",
    "\n",
    "# Mutate the tensor by setting a few elements\n",
    "indices = [(0, 0), (1, 0), (1, 1)]\n",
    "values = [4, 5, 6]\n",
    "mutate_tensor(x, indices, values)\n",
    "print('\\nAfter mutating:')\n",
    "print(x)\n",
    "print('\\nCorrect shape: ', x.shape == (3, 2))\n",
    "print('x[0, 0] correct: ', x[0, 0].item() == 4)\n",
    "print('x[1, 0] correct: ', x[1, 0].item() == 5)\n",
    "print('x[1, 1] correct: ', x[1, 1].item() == 6)\n",
    "\n",
    "# Check the number of elements in the sample tensor\n",
    "num = count_tensor_elements(x)\n",
    "print('\\nNumber of elements in x: ', num)\n",
    "print('Correctly counted: ', num == 6)"
   ]
  },
  {
   "cell_type": "markdown",
   "metadata": {
    "id": "Yz_VDA3IvP33"
   },
   "source": [
    "### Tensor constructors"
   ]
  },
  {
   "cell_type": "markdown",
   "metadata": {
    "id": "BoAlslEdwV-k"
   },
   "source": [
    "PyTorch provides many convenience methods for constructing tensors; this avoids the need to use Python lists, which can be inefficient when manipulating large amounts of data. Some of the most commonly used tensor constructors are:\n",
    "\n",
    "- [`torch.zeros`](https://pytorch.org/docs/stable/generated/torch.zeros.html): Creates a tensor of all zeros\n",
    "- [`torch.ones`](https://pytorch.org/docs/stable/generated/torch.ones.html): Creates a tensor of all ones\n",
    "- [`torch.rand`](https://pytorch.org/docs/stable/generated/torch.rand.html): Creates a tensor with uniform random numbers\n",
    "\n",
    "You can find a full list of tensor creation operations [in the documentation](https://pytorch.org/docs/stable/torch.html#creation-ops)."
   ]
  },
  {
   "cell_type": "code",
   "execution_count": null,
   "metadata": {
    "colab": {
     "base_uri": "https://localhost:8080/"
    },
    "executionInfo": {
     "elapsed": 825,
     "status": "ok",
     "timestamp": 1721786040459,
     "user": {
      "displayName": "K Chauncey",
      "userId": "01082062638203565386"
     },
     "user_tz": -480
    },
    "id": "FL6DXGXzxHBA",
    "outputId": "ce02f4cc-972a-4958-cf5f-e7b66b2d7662"
   },
   "outputs": [
    {
     "name": "stdout",
     "output_type": "stream",
     "text": [
      "tensor of zeros:\n",
      "tensor([[0., 0., 0.],\n",
      "        [0., 0., 0.]])\n",
      "\n",
      "tensor of ones:\n",
      "tensor([[1., 1.]])\n",
      "\n",
      "identity matrix:\n",
      "tensor([[1., 0., 0.],\n",
      "        [0., 1., 0.],\n",
      "        [0., 0., 1.]])\n",
      "\n",
      "random tensor:\n",
      "tensor([[0.3568, 0.5952, 0.6050, 0.2159, 0.2336],\n",
      "        [0.6735, 0.5760, 0.3954, 0.9048, 0.6587],\n",
      "        [0.9962, 0.6398, 0.5676, 0.9946, 0.8635],\n",
      "        [0.6630, 0.4580, 0.3912, 0.2035, 0.0221]])\n"
     ]
    }
   ],
   "source": [
    "# Create a tensor of all zeros\n",
    "a = torch.zeros(2, 3)\n",
    "print('tensor of zeros:')\n",
    "print(a)\n",
    "\n",
    "# Create a tensor of all ones\n",
    "b = torch.ones(1, 2)\n",
    "print('\\ntensor of ones:')\n",
    "print(b)\n",
    "\n",
    "# Create a 3x3 identity matrix\n",
    "c = torch.eye(3)\n",
    "print('\\nidentity matrix:')\n",
    "print(c)\n",
    "\n",
    "# Tensor of random values\n",
    "d = torch.rand(4, 5)\n",
    "print('\\nrandom tensor:')\n",
    "print(d)"
   ]
  },
  {
   "cell_type": "markdown",
   "metadata": {
    "id": "y9QuvWYxMsoK"
   },
   "source": [
    "**Your turn**: In the file `pytorch101.py`, complete the implementation of `create_tensor_of_pi` to practice using a tensor constructor.\n",
    "\n",
    "Hint: [`torch.full`](https://pytorch.org/docs/stable/generated/torch.full.html#torch.full)"
   ]
  },
  {
   "cell_type": "code",
   "execution_count": null,
   "metadata": {
    "colab": {
     "base_uri": "https://localhost:8080/"
    },
    "executionInfo": {
     "elapsed": 932,
     "status": "ok",
     "timestamp": 1721786044264,
     "user": {
      "displayName": "K Chauncey",
      "userId": "01082062638203565386"
     },
     "user_tz": -480
    },
    "id": "N_y7Z5I0NIaA",
    "outputId": "53bde087-da06-4463-8578-f4b088fd539d"
   },
   "outputs": [
    {
     "name": "stdout",
     "output_type": "stream",
     "text": [
      "x is a tensor: True\n",
      "x has correct shape:  True\n",
      "x is filled with pi:  True\n"
     ]
    }
   ],
   "source": [
    "from pytorch101 import create_tensor_of_pi\n",
    "\n",
    "x = create_tensor_of_pi(4, 5)\n",
    "\n",
    "print('x is a tensor:', torch.is_tensor(x))\n",
    "print('x has correct shape: ', x.shape == (4, 5))\n",
    "print('x is filled with pi: ', (x == 3.14).all().item() == 1)"
   ]
  },
  {
   "cell_type": "markdown",
   "metadata": {
    "id": "Rz_hiJD33fu1"
   },
   "source": [
    "### Datatypes"
   ]
  },
  {
   "cell_type": "markdown",
   "metadata": {
    "id": "GG1xBunZ3ixx"
   },
   "source": [
    "In the examples above, you may have noticed that some of our tensors contained floating-point values, while others contained integer values.\n",
    "\n",
    "PyTorch provides a [large set of numeric datatypes](https://pytorch.org/docs/stable/tensor_attributes.html#torch.torch.dtype) that you can use to construct tensors. PyTorch tries to guess a datatype when you create a tensor; functions that construct tensors typically have a `dtype` argument that you can use to explicitly specify a datatype.\n",
    "\n",
    "Each tensor has a `dtype` attribute that you can use to check its data type:"
   ]
  },
  {
   "cell_type": "code",
   "execution_count": null,
   "metadata": {
    "colab": {
     "base_uri": "https://localhost:8080/"
    },
    "executionInfo": {
     "elapsed": 829,
     "status": "ok",
     "timestamp": 1721786048303,
     "user": {
      "displayName": "K Chauncey",
      "userId": "01082062638203565386"
     },
     "user_tz": -480
    },
    "id": "vREVDf_n31Qz",
    "outputId": "97f2b38f-3686-4d87-f9e3-6c18bd8d64c6"
   },
   "outputs": [
    {
     "name": "stdout",
     "output_type": "stream",
     "text": [
      "dtype when torch chooses for us:\n",
      "List of integers: torch.int64\n",
      "List of floats: torch.float32\n",
      "Mixed list: torch.float32\n",
      "\n",
      "dtype when we force a datatype:\n",
      "32-bit float:  torch.float32\n",
      "32-bit integer:  torch.int32\n",
      "64-bit integer:  torch.int64\n",
      "\n",
      "torch.ones with different dtypes\n",
      "default dtype: torch.float32\n",
      "16-bit integer: torch.int16\n",
      "8-bit unsigned integer: torch.uint8\n"
     ]
    }
   ],
   "source": [
    "# Let torch choose the datatype\n",
    "x0 = torch.tensor([1, 2])   # List of integers\n",
    "x1 = torch.tensor([1., 2.]) # List of floats\n",
    "x2 = torch.tensor([1., 2])  # Mixed list\n",
    "print('dtype when torch chooses for us:')\n",
    "print('List of integers:', x0.dtype)\n",
    "print('List of floats:', x1.dtype)\n",
    "print('Mixed list:', x2.dtype)\n",
    "\n",
    "# Force a particular datatype\n",
    "y0 = torch.tensor([1, 2], dtype=torch.float32)  # 32-bit float\n",
    "y1 = torch.tensor([1, 2], dtype=torch.int32)    # 32-bit (signed) integer\n",
    "y2 = torch.tensor([1, 2], dtype=torch.int64)    # 64-bit (signed) integer\n",
    "print('\\ndtype when we force a datatype:')\n",
    "print('32-bit float: ', y0.dtype)\n",
    "print('32-bit integer: ', y1.dtype)\n",
    "print('64-bit integer: ', y2.dtype)\n",
    "\n",
    "# Other creation ops also take a dtype argument\n",
    "z0 = torch.ones(1, 2)  # Let torch choose for us\n",
    "z1 = torch.ones(1, 2, dtype=torch.int16) # 16-bit (signed) integer\n",
    "z2 = torch.ones(1, 2, dtype=torch.uint8) # 8-bit (unsigned) integer\n",
    "print('\\ntorch.ones with different dtypes')\n",
    "print('default dtype:', z0.dtype)\n",
    "print('16-bit integer:', z1.dtype)\n",
    "print('8-bit unsigned integer:', z2.dtype)"
   ]
  },
  {
   "cell_type": "markdown",
   "metadata": {
    "id": "W2reBgQmx_x4"
   },
   "source": [
    "We can **cast** a tensor to another datatype using the [`.to()`](https://pytorch.org/docs/stable/generated/torch.Tensor.to.html) method; there are also convenience methods like [`.float()`](https://pytorch.org/docs/stable/generated/torch.Tensor.float.html) and [`.long()`](https://pytorch.org/docs/stable/generated/torch.Tensor.long.html) that cast to particular datatypes:\n"
   ]
  },
  {
   "cell_type": "code",
   "execution_count": null,
   "metadata": {
    "colab": {
     "base_uri": "https://localhost:8080/"
    },
    "executionInfo": {
     "elapsed": 840,
     "status": "ok",
     "timestamp": 1721786051734,
     "user": {
      "displayName": "K Chauncey",
      "userId": "01082062638203565386"
     },
     "user_tz": -480
    },
    "id": "sAMpwGsdyHAw",
    "outputId": "30f3772b-4deb-4d3d-99b7-10c57eb0e6be"
   },
   "outputs": [
    {
     "name": "stdout",
     "output_type": "stream",
     "text": [
      "x0: torch.int64\n",
      "x1: torch.float32\n",
      "x2: torch.float64\n",
      "x3: torch.float32\n",
      "x4: torch.float64\n"
     ]
    }
   ],
   "source": [
    "x0 = torch.eye(3, dtype=torch.int64)\n",
    "x1 = x0.float()  # Cast to 32-bit float\n",
    "x2 = x0.double() # Cast to 64-bit float\n",
    "x3 = x0.to(torch.float32) # Alternate way to cast to 32-bit float\n",
    "x4 = x0.to(torch.float64) # Alternate way to cast to 64-bit float\n",
    "print('x0:', x0.dtype)\n",
    "print('x1:', x1.dtype)\n",
    "print('x2:', x2.dtype)\n",
    "print('x3:', x3.dtype)\n",
    "print('x4:', x4.dtype)"
   ]
  },
  {
   "cell_type": "markdown",
   "metadata": {
    "id": "k2O8Atl1wMB7"
   },
   "source": [
    "PyTorch provides several ways to create a tensor with the same datatype as another tensor:\n",
    "\n",
    "- PyTorch provides tensor constructors such as [`torch.zeros_like()`](https://pytorch.org/docs/stable/generated/torch.zeros_like.html) that create new tensors with the same shape and type as a given tensor\n",
    "- Tensor objects have instance methods such as [`.new_zeros()`](https://pytorch.org/docs/stable/generated/torch.Tensor.new_zeros.html) that create tensors the same type but possibly different shapes\n",
    "- The tensor instance method [`.to()`](https://pytorch.org/docs/stable/generated/torch.Tensor.to.html) can take a tensor as an argument, in which case it casts to the datatype of the argument."
   ]
  },
  {
   "cell_type": "code",
   "execution_count": null,
   "metadata": {
    "colab": {
     "base_uri": "https://localhost:8080/"
    },
    "executionInfo": {
     "elapsed": 402,
     "status": "ok",
     "timestamp": 1721786055188,
     "user": {
      "displayName": "K Chauncey",
      "userId": "01082062638203565386"
     },
     "user_tz": -480
    },
    "id": "1APDsx54xV6p",
    "outputId": "641765cb-26bd-4c0d-efb9-45f8c9471abf"
   },
   "outputs": [
    {
     "name": "stdout",
     "output_type": "stream",
     "text": [
      "x0 shape is torch.Size([3, 3]), dtype is torch.float64\n",
      "x1 shape is torch.Size([3, 3]), dtype is torch.float64\n",
      "x2 shape is torch.Size([4, 5]), dtype is torch.float64\n",
      "x3 shape is torch.Size([6, 7]), dtype is torch.float64\n"
     ]
    }
   ],
   "source": [
    "x0 = torch.eye(3, dtype=torch.float64)  # Shape (3, 3), dtype torch.float64\n",
    "x1 = torch.zeros_like(x0)               # Shape (3, 3), dtype torch.float64\n",
    "x2 = x0.new_zeros(4, 5)                 # Shape (4, 5), dtype torch.float64\n",
    "x3 = torch.ones(6, 7).to(x0)            # Shape (6, 7), dtype torch.float64)\n",
    "print('x0 shape is %r, dtype is %r' % (x0.shape, x0.dtype))\n",
    "print('x1 shape is %r, dtype is %r' % (x1.shape, x1.dtype))\n",
    "print('x2 shape is %r, dtype is %r' % (x2.shape, x2.dtype))\n",
    "print('x3 shape is %r, dtype is %r' % (x3.shape, x3.dtype))"
   ]
  },
  {
   "cell_type": "markdown",
   "metadata": {
    "id": "OPuGPa0v4h_2"
   },
   "source": [
    "**Your turn**: In the file `pytorch101.py`, implement the function `multiples_of_ten` which should create and return a tensor of dtype `torch.float64` containing all the multiples of ten in a given range.\n",
    "\n",
    "Hint: [`torch.arange`](https://pytorch.org/docs/stable/generated/torch.arange.html)"
   ]
  },
  {
   "cell_type": "code",
   "execution_count": null,
   "metadata": {
    "colab": {
     "base_uri": "https://localhost:8080/"
    },
    "executionInfo": {
     "elapsed": 818,
     "status": "ok",
     "timestamp": 1721787265092,
     "user": {
      "displayName": "K Chauncey",
      "userId": "01082062638203565386"
     },
     "user_tz": -480
    },
    "id": "Qddo6C5Bgwcr",
    "outputId": "982cf8c2-89f1-41d6-e818-07132eaebaf2"
   },
   "outputs": [
    {
     "name": "stdout",
     "output_type": "stream",
     "text": [
      "Correct dtype:  True\n",
      "Correct shape:  True\n",
      "Correct values:  True\n",
      "\n",
      "Correct dtype:  True\n",
      "Correct shape:  True\n"
     ]
    }
   ],
   "source": [
    "from pytorch101 import multiples_of_ten\n",
    "\n",
    "start = 5\n",
    "stop = 25\n",
    "x = multiples_of_ten(start, stop)\n",
    "print('Correct dtype: ', x.dtype == torch.float64)\n",
    "print('Correct shape: ', x.shape == (2,))\n",
    "print('Correct values: ', x.tolist() == [10, 20])\n",
    "\n",
    "# If there are no multiples of ten in the given range you should return an empty tensor\n",
    "start = 5\n",
    "stop = 7\n",
    "x = multiples_of_ten(start, stop)\n",
    "print('\\nCorrect dtype: ', x.dtype == torch.float64)\n",
    "print('Correct shape: ', x.shape == (0,))"
   ]
  },
  {
   "cell_type": "markdown",
   "metadata": {
    "id": "RwJL3HVySvXn"
   },
   "source": [
    "Even though PyTorch provides a large number of numeric datatypes, the most commonly used datatypes are:\n",
    "\n",
    "- `torch.float32`: Standard floating-point type; used to store learnable parameters, network activations, etc. Nearly all arithmetic is done using this type.\n",
    "- `torch.int64`: Typically used to store indices\n",
    "- `torch.bool`: Stores boolean values: 0 is false and 1 is true\n",
    "- `torch.float16`: Used for mixed-precision arithmetic, usually on NVIDIA GPUs with [tensor cores](https://www.nvidia.com/en-us/data-center/tensorcore/). You won't need to worry about this datatype in this course."
   ]
  },
  {
   "cell_type": "markdown",
   "metadata": {
    "id": "rlANfnILvX3S"
   },
   "source": [
    "## Tensor indexing"
   ]
  },
  {
   "cell_type": "markdown",
   "metadata": {
    "id": "KP4dRrHhyLO5"
   },
   "source": [
    "We have already seen how to get and set individual elements of PyTorch tensors. PyTorch also provides many other ways of indexing into tensors. Getting comfortable with these different options makes it easy to modify different parts of tensors with ease."
   ]
  },
  {
   "cell_type": "markdown",
   "metadata": {
    "id": "mo-PoTWNvbba"
   },
   "source": [
    "### Slice indexing"
   ]
  },
  {
   "cell_type": "markdown",
   "metadata": {
    "id": "qUqTYvglyVLc"
   },
   "source": [
    "Similar to Python lists and numpy arrays, PyTorch tensors can be **sliced** using the syntax `start:stop` or `start:stop:step`. The `stop` index is always non-inclusive: it is the first element not to be included in the slice.\n",
    "\n",
    "Start and stop indices can be negative, in which case they count backward from the end of the tensor."
   ]
  },
  {
   "cell_type": "code",
   "execution_count": null,
   "metadata": {
    "colab": {
     "base_uri": "https://localhost:8080/"
    },
    "executionInfo": {
     "elapsed": 757,
     "status": "ok",
     "timestamp": 1721787278157,
     "user": {
      "displayName": "K Chauncey",
      "userId": "01082062638203565386"
     },
     "user_tz": -480
    },
    "id": "yEr5BzdUdCtZ",
    "outputId": "21084f88-faa7-4837-f358-b7ee62f967ad"
   },
   "outputs": [
    {
     "name": "stdout",
     "output_type": "stream",
     "text": [
      "0 tensor([ 0, 11, 22, 33, 44, 55, 66])\n",
      "1 tensor([22, 33, 44])\n",
      "2 tensor([22, 33, 44, 55, 66])\n",
      "3 tensor([ 0, 11, 22, 33, 44])\n",
      "4 tensor([ 0, 11, 22, 33, 44, 55, 66])\n",
      "5 tensor([11, 33])\n",
      "6 tensor([ 0, 11, 22, 33, 44, 55])\n",
      "7 tensor([33, 55])\n"
     ]
    }
   ],
   "source": [
    "a = torch.tensor([0, 11, 22, 33, 44, 55, 66])\n",
    "print(0, a)        # (0) Original tensor\n",
    "print(1, a[2:5])   # (1) Elements between index 2 and 5\n",
    "print(2, a[2:])    # (2) Elements after index 2\n",
    "print(3, a[:5])    # (3) Elements before index 5\n",
    "print(4, a[:])     # (4) All elements\n",
    "print(5, a[1:5:2]) # (5) Every second element between indices 1 and 5\n",
    "print(6, a[:-1])   # (6) All but the last element\n",
    "print(7, a[-4::2]) # (7) Every second element, starting from the fourth-last"
   ]
  },
  {
   "cell_type": "markdown",
   "metadata": {
    "id": "yrcr9PojgTS1"
   },
   "source": [
    "For multidimensional tensors, you can provide a slice or integer for each dimension of the tensor in order to extract different types of subtensors:"
   ]
  },
  {
   "cell_type": "code",
   "execution_count": null,
   "metadata": {
    "colab": {
     "base_uri": "https://localhost:8080/"
    },
    "executionInfo": {
     "elapsed": 779,
     "status": "ok",
     "timestamp": 1721787284147,
     "user": {
      "displayName": "K Chauncey",
      "userId": "01082062638203565386"
     },
     "user_tz": -480
    },
    "id": "S5fOdjTUyhNf",
    "outputId": "f38abbea-e060-4428-ff15-5500fa61f223"
   },
   "outputs": [
    {
     "name": "stdout",
     "output_type": "stream",
     "text": [
      "Original tensor:\n",
      "tensor([[ 1,  2,  3,  4],\n",
      "        [ 5,  6,  7,  8],\n",
      "        [ 9, 10, 11, 12]])\n",
      "shape:  torch.Size([3, 4])\n",
      "\n",
      "Single row:\n",
      "tensor([5, 6, 7, 8])\n",
      "tensor([5, 6, 7, 8])\n",
      "shape:  torch.Size([4])\n",
      "\n",
      "Single column:\n",
      "tensor([ 2,  6, 10])\n",
      "shape:  torch.Size([3])\n",
      "\n",
      "First two rows, last two columns:\n",
      "tensor([[2, 3, 4],\n",
      "        [6, 7, 8]])\n",
      "shape:  torch.Size([2, 3])\n",
      "\n",
      "Every other row, middle columns:\n",
      "tensor([[ 2,  3],\n",
      "        [10, 11]])\n",
      "shape:  torch.Size([2, 2])\n"
     ]
    }
   ],
   "source": [
    "# Create the following rank 2 tensor with shape (3, 4)\n",
    "# [[ 1  2  3  4]\n",
    "#  [ 5  6  7  8]\n",
    "#  [ 9 10 11 12]]\n",
    "a = torch.tensor([[1,2,3,4], [5,6,7,8], [9,10,11,12]])\n",
    "print('Original tensor:')\n",
    "print(a)\n",
    "print('shape: ', a.shape)\n",
    "\n",
    "# Get row 1, and all columns.\n",
    "print('\\nSingle row:')\n",
    "print(a[1, :])\n",
    "print(a[1])  # Gives the same result; we can omit : for trailing dimensions\n",
    "print('shape: ', a[1].shape)\n",
    "\n",
    "print('\\nSingle column:')\n",
    "print(a[:, 1])\n",
    "print('shape: ', a[:, 1].shape)\n",
    "\n",
    "# Get the first two rows and the last three columns\n",
    "print('\\nFirst two rows, last two columns:')\n",
    "print(a[:2, -3:])\n",
    "print('shape: ', a[:2, -3:].shape)\n",
    "\n",
    "# Get every other row, and columns at index 1 and 2\n",
    "print('\\nEvery other row, middle columns:')\n",
    "print(a[::2, 1:3])\n",
    "print('shape: ', a[::2, 1:3].shape)"
   ]
  },
  {
   "cell_type": "markdown",
   "metadata": {
    "id": "gOsR8Pdertku"
   },
   "source": [
    "There are two common ways to access a single row or column of a tensor: using an integer will reduce the rank by one, and using a length-one slice will keep the same rank. Note that this is different behavior from MATLAB."
   ]
  },
  {
   "cell_type": "code",
   "execution_count": null,
   "metadata": {
    "colab": {
     "base_uri": "https://localhost:8080/"
    },
    "executionInfo": {
     "elapsed": 744,
     "status": "ok",
     "timestamp": 1721787288251,
     "user": {
      "displayName": "K Chauncey",
      "userId": "01082062638203565386"
     },
     "user_tz": -480
    },
    "id": "P1kHcc5jsF-c",
    "outputId": "128d4a08-09d7-4626-ebc8-42c75af72757"
   },
   "outputs": [
    {
     "name": "stdout",
     "output_type": "stream",
     "text": [
      "Original tensor\n",
      "tensor([[ 1,  2,  3,  4],\n",
      "        [ 5,  6,  7,  8],\n",
      "        [ 9, 10, 11, 12]])\n",
      "\n",
      "Two ways of accessing a single row:\n",
      "tensor([5, 6, 7, 8]) torch.Size([4])\n",
      "tensor([[5, 6, 7, 8]]) torch.Size([1, 4])\n",
      "\n",
      "Two ways of accessing a single column:\n",
      "tensor([ 2,  6, 10]) torch.Size([3])\n",
      "tensor([[ 2],\n",
      "        [ 6],\n",
      "        [10]]) torch.Size([3, 1])\n"
     ]
    }
   ],
   "source": [
    "# Create the following rank 2 tensor with shape (3, 4)\n",
    "a = torch.tensor([[1,2,3,4], [5,6,7,8], [9,10,11,12]])\n",
    "print('Original tensor')\n",
    "print(a)\n",
    "\n",
    "row_r1 = a[1, :]    # Rank 1 view of the second row of a\n",
    "row_r2 = a[1:2, :]  # Rank 2 view of the second row of a\n",
    "print('\\nTwo ways of accessing a single row:')\n",
    "print(row_r1, row_r1.shape)\n",
    "print(row_r2, row_r2.shape)\n",
    "\n",
    "# We can make the same distinction when accessing columns:\n",
    "col_r1 = a[:, 1]\n",
    "col_r2 = a[:, 1:2]\n",
    "print('\\nTwo ways of accessing a single column:')\n",
    "print(col_r1, col_r1.shape)\n",
    "print(col_r2, col_r2.shape)"
   ]
  },
  {
   "cell_type": "markdown",
   "metadata": {
    "id": "Jk625fJfyxV8"
   },
   "source": [
    "Slicing a tensor returns a **view** into the same data, so modifying it will also modify the original tensor. To avoid this, you can use the `clone()` method to make a copy of a tensor."
   ]
  },
  {
   "cell_type": "code",
   "execution_count": null,
   "metadata": {
    "colab": {
     "base_uri": "https://localhost:8080/"
    },
    "executionInfo": {
     "elapsed": 754,
     "status": "ok",
     "timestamp": 1721787292045,
     "user": {
      "displayName": "K Chauncey",
      "userId": "01082062638203565386"
     },
     "user_tz": -480
    },
    "id": "IXbikYPwyxGA",
    "outputId": "4e5b56b9-6a1e-4794-d5e9-eec34d086f2e"
   },
   "outputs": [
    {
     "name": "stdout",
     "output_type": "stream",
     "text": [
      "Before mutating:\n",
      "tensor([[1, 2, 3, 4],\n",
      "        [5, 6, 7, 8]])\n",
      "tensor([2, 3, 4])\n",
      "tensor([2, 3, 4])\n",
      "\n",
      "After mutating:\n",
      "tensor([[ 1, 20, 30,  4],\n",
      "        [ 5,  6,  7,  8]])\n",
      "tensor([20, 30,  4])\n",
      "tensor([ 2,  3, 40])\n",
      "False\n"
     ]
    },
    {
     "name": "stderr",
     "output_type": "stream",
     "text": [
      "<ipython-input-30-ebe253bfaff2>:18: UserWarning: TypedStorage is deprecated. It will be removed in the future and UntypedStorage will be the only storage class. This should only matter to you if you are using storages directly.  To access UntypedStorage directly, use tensor.untyped_storage() instead of tensor.storage()\n",
      "  print(a.storage().data_ptr() == c.storage().data_ptr())\n"
     ]
    }
   ],
   "source": [
    "# Create a tensor, a slice, and a clone of a slice\n",
    "a = torch.tensor([[1, 2, 3, 4], [5, 6, 7, 8]])\n",
    "b = a[0, 1:]\n",
    "c = a[0, 1:].clone()\n",
    "print('Before mutating:')\n",
    "print(a)\n",
    "print(b)\n",
    "print(c)\n",
    "\n",
    "a[0, 1] = 20  # a[0, 1] and b[0] point to the same element\n",
    "b[1] = 30     # b[1] and a[0, 2] point to the same element\n",
    "c[2] = 40     # c is a clone, so it has its own data\n",
    "print('\\nAfter mutating:')\n",
    "print(a)\n",
    "print(b)\n",
    "print(c)\n",
    "\n",
    "print(a.storage().data_ptr() == c.storage().data_ptr())"
   ]
  },
  {
   "cell_type": "markdown",
   "metadata": {
    "id": "5t5omyKwm9dB"
   },
   "source": [
    "**Your turn**: In the file `pytorch101.py`, implement the function `slice_indexing_practice` to practice indexing tensors with different types of slices."
   ]
  },
  {
   "cell_type": "code",
   "execution_count": null,
   "metadata": {
    "id": "yKq2mswvqMmw"
   },
   "outputs": [],
   "source": [
    "# We will use this helper function to check your results\n",
    "def check(orig, actual, expected):\n",
    "    if not torch.is_tensor(actual):\n",
    "        return False\n",
    "    expected = torch.tensor(expected)\n",
    "    same_elements = (actual == expected).all().item()\n",
    "    same_storage = (orig.storage().data_ptr() == actual.storage().data_ptr())\n",
    "    return same_elements and same_storage"
   ]
  },
  {
   "cell_type": "code",
   "execution_count": null,
   "metadata": {
    "colab": {
     "base_uri": "https://localhost:8080/"
    },
    "executionInfo": {
     "elapsed": 387,
     "status": "ok",
     "timestamp": 1721787299001,
     "user": {
      "displayName": "K Chauncey",
      "userId": "01082062638203565386"
     },
     "user_tz": -480
    },
    "id": "5-5UtVXPVTQL",
    "outputId": "062446c2-1d19-4833-a207-46a27ddf6fed"
   },
   "outputs": [
    {
     "name": "stdout",
     "output_type": "stream",
     "text": [
      "last_row:\n",
      "tensor([11, 12, 13, 14, 15])\n",
      "Correct: True\n",
      "\n",
      "third_col:\n",
      "tensor([[ 3],\n",
      "        [ 8],\n",
      "        [13]])\n",
      "Correct: True\n",
      "\n",
      "first_two_rows_three_cols:\n",
      "tensor([[1, 2, 3],\n",
      "        [6, 7, 8]])\n",
      "Correct: True\n",
      "\n",
      "even_rows_odd_cols:\n",
      "tensor([[ 2,  4],\n",
      "        [12, 14]])\n",
      "Correct: True\n",
      "\n"
     ]
    }
   ],
   "source": [
    "from pytorch101 import slice_indexing_practice\n",
    "\n",
    "# Create the following rank 2 tensor of shape (3, 5)\n",
    "# [[ 1  2  3  4  5]\n",
    "#  [ 6  7  8  9 10]\n",
    "#  [11 12 13 14 15]]\n",
    "x = torch.tensor([[1, 2, 3, 4, 5], [6, 7, 8, 8, 10], [11, 12, 13, 14, 15]])\n",
    "out = slice_indexing_practice(x)\n",
    "\n",
    "last_row = out[0]\n",
    "print('last_row:')\n",
    "print(last_row)\n",
    "correct = check(x, last_row, [11, 12, 13, 14, 15])\n",
    "print('Correct: %r\\n' % correct)\n",
    "\n",
    "third_col = out[1]\n",
    "print('third_col:')\n",
    "print(third_col)\n",
    "correct = check(x, third_col, [[3], [8], [13]])\n",
    "print('Correct: %r\\n' % correct)\n",
    "\n",
    "first_two_rows_three_cols = out[2]\n",
    "print('first_two_rows_three_cols:')\n",
    "print(first_two_rows_three_cols)\n",
    "correct = check(x, first_two_rows_three_cols, [[1, 2, 3], [6, 7, 8]])\n",
    "print('Correct: %r\\n' % correct)\n",
    "\n",
    "even_rows_odd_cols = out[3]\n",
    "print('even_rows_odd_cols:')\n",
    "print(even_rows_odd_cols)\n",
    "correct = check(x, even_rows_odd_cols, [[2, 4], [12, 14]])\n",
    "print('Correct: %r\\n' % correct)"
   ]
  },
  {
   "cell_type": "markdown",
   "metadata": {
    "id": "RNjhLwb0xY2A"
   },
   "source": [
    "So far we have used slicing to **access** subtensors; we can also use slicing to **modify** subtensors by writing assignment expressions where the left-hand side is a slice expression, and the right-hand side is a constant or a tensor of the correct shape:"
   ]
  },
  {
   "cell_type": "code",
   "execution_count": null,
   "metadata": {
    "colab": {
     "base_uri": "https://localhost:8080/"
    },
    "executionInfo": {
     "elapsed": 705,
     "status": "ok",
     "timestamp": 1721787303101,
     "user": {
      "displayName": "K Chauncey",
      "userId": "01082062638203565386"
     },
     "user_tz": -480
    },
    "id": "DFnky42Rx2I5",
    "outputId": "cbc640e1-dea8-48a3-d24a-2019e46c438b"
   },
   "outputs": [
    {
     "name": "stdout",
     "output_type": "stream",
     "text": [
      "tensor([[1, 1, 2, 3],\n",
      "        [1, 1, 4, 5]])\n"
     ]
    }
   ],
   "source": [
    "a = torch.zeros(2, 4, dtype=torch.int64)\n",
    "a[:, :2] = 1\n",
    "a[:, 2:] = torch.tensor([[2, 3], [4, 5]])\n",
    "print(a)"
   ]
  },
  {
   "cell_type": "markdown",
   "metadata": {
    "id": "HPVCQ5HszihV"
   },
   "source": [
    "**Your turn**: in the file `pytorch101.py`, implement the function `slice_assignment_practice` to practice modifying tensors with slicing assignment statements.\n",
    "\n",
    "This function should use slicing assignment operations to modify the first four rows and first six columns of the input tensor so they are equal to\n",
    "\n",
    "$$\n",
    "\\begin{bmatrix}\n",
    "0 & 1 & 2 & 2 & 2 & 2 \\\\\n",
    "0 & 1 & 2 & 2 & 2 & 2 \\\\\n",
    "3 & 4 & 3 & 4 & 5 & 5 \\\\\n",
    "3 & 4 & 3 & 4 & 5 & 5 \\\\\n",
    "\\end{bmatrix}\n",
    "$$\n",
    "\n",
    "Your implementation must obey the following:\n",
    "- You should mutate the tensor x in-place and return it\n",
    "- You should only modify the first 4 rows and first 6 columns; all other\n",
    "elements should remain unchanged\n",
    "- You may only mutate the tensor using slice assignment operations, where you\n",
    "assign an integer to a slice of the tensor\n",
    "- You must use <= 6 slicing operations to achieve the desired result"
   ]
  },
  {
   "cell_type": "code",
   "execution_count": null,
   "metadata": {
    "colab": {
     "base_uri": "https://localhost:8080/"
    },
    "executionInfo": {
     "elapsed": 388,
     "status": "ok",
     "timestamp": 1721787306522,
     "user": {
      "displayName": "K Chauncey",
      "userId": "01082062638203565386"
     },
     "user_tz": -480
    },
    "id": "FzXlnFqAVTQQ",
    "outputId": "7ee59306-09e5-4ed4-deda-be60149c7d93"
   },
   "outputs": [
    {
     "name": "stdout",
     "output_type": "stream",
     "text": [
      "Here is x before calling slice_assignment_practice:\n",
      "tensor([[0, 0, 0, 0, 0, 0, 0],\n",
      "        [0, 0, 0, 0, 0, 0, 0],\n",
      "        [0, 0, 0, 0, 0, 0, 0],\n",
      "        [0, 0, 0, 0, 0, 0, 0],\n",
      "        [0, 0, 0, 0, 0, 0, 0]])\n",
      "Here is x after calling slice assignment practice:\n",
      "tensor([[0, 1, 2, 2, 2, 2, 0],\n",
      "        [0, 1, 2, 2, 2, 2, 0],\n",
      "        [3, 4, 3, 4, 5, 5, 0],\n",
      "        [3, 4, 3, 4, 5, 5, 0],\n",
      "        [0, 0, 0, 0, 0, 0, 0]])\n",
      "Correct:  True\n"
     ]
    }
   ],
   "source": [
    "from pytorch101 import slice_assignment_practice\n",
    "\n",
    "# note: this \"x\" has one extra row, intentionally\n",
    "x = torch.zeros(5, 7, dtype=torch.int64)\n",
    "print('Here is x before calling slice_assignment_practice:')\n",
    "print(x)\n",
    "slice_assignment_practice(x)\n",
    "print('Here is x after calling slice assignment practice:')\n",
    "print(x)\n",
    "\n",
    "expected = [\n",
    "    [0, 1, 2, 2, 2, 2, 0],\n",
    "    [0, 1, 2, 2, 2, 2, 0],\n",
    "    [3, 4, 3, 4, 5, 5, 0],\n",
    "    [3, 4, 3, 4, 5, 5, 0],\n",
    "    [0, 0, 0, 0, 0, 0, 0],\n",
    "]\n",
    "print('Correct: ', x.tolist() == expected)"
   ]
  },
  {
   "cell_type": "markdown",
   "metadata": {
    "id": "4y93rPhGveWw"
   },
   "source": [
    "### Integer tensor indexing"
   ]
  },
  {
   "cell_type": "markdown",
   "metadata": {
    "id": "GlTyhjEN0AIE"
   },
   "source": [
    "When you index into torch tensor using slicing, the resulting tensor view will always be a subarray of the original tensor. This is powerful, but can be restrictive.\n",
    "\n",
    "We can also use **index arrays** to index tensors; this lets us construct new tensors with a lot more flexibility than using slices.\n",
    "\n",
    "As an example, we can use index arrays to reorder the rows or columns of a tensor:"
   ]
  },
  {
   "cell_type": "code",
   "execution_count": null,
   "metadata": {
    "colab": {
     "base_uri": "https://localhost:8080/"
    },
    "executionInfo": {
     "elapsed": 677,
     "status": "ok",
     "timestamp": 1721787311806,
     "user": {
      "displayName": "K Chauncey",
      "userId": "01082062638203565386"
     },
     "user_tz": -480
    },
    "id": "IXePPNkjM_SD",
    "outputId": "886bd952-0186-49ed-a0bc-07dd2ba84c53"
   },
   "outputs": [
    {
     "name": "stdout",
     "output_type": "stream",
     "text": [
      "Original tensor:\n",
      "tensor([[ 1,  2,  3,  4],\n",
      "        [ 5,  6,  7,  8],\n",
      "        [ 9, 10, 11, 12]])\n",
      "\n",
      "Reordered rows:\n",
      "tensor([[ 1,  2,  3,  4],\n",
      "        [ 1,  2,  3,  4],\n",
      "        [ 9, 10, 11, 12],\n",
      "        [ 5,  6,  7,  8],\n",
      "        [ 5,  6,  7,  8]])\n",
      "\n",
      "Reordered columns:\n",
      "tensor([[ 4,  3,  2,  1],\n",
      "        [ 8,  7,  6,  5],\n",
      "        [12, 11, 10,  9]])\n"
     ]
    }
   ],
   "source": [
    "# Create the following rank 2 tensor with shape (3, 4)\n",
    "# [[ 1  2  3  4]\n",
    "#  [ 5  6  7  8]\n",
    "#  [ 9 10 11 12]]\n",
    "a = torch.tensor([[1, 2, 3, 4], [5, 6, 7, 8], [9, 10, 11, 12]])\n",
    "print('Original tensor:')\n",
    "print(a)\n",
    "\n",
    "# Create a new tensor of shape (5, 4) by reordering rows from a:\n",
    "# - First two rows same as the first row of a\n",
    "# - Third row is the same as the last row of a\n",
    "# - Fourth and fifth rows are the same as the second row from a\n",
    "idx = [0, 0, 2, 1, 1]  # index arrays can be Python lists of integers\n",
    "print('\\nReordered rows:')\n",
    "print(a[idx])\n",
    "\n",
    "# Create a new tensor of shape (3, 4) by reversing the columns from a\n",
    "idx = torch.tensor([3, 2, 1, 0])  # Index arrays can be int64 torch tensors\n",
    "print('\\nReordered columns:')\n",
    "print(a[:, idx])"
   ]
  },
  {
   "cell_type": "markdown",
   "metadata": {
    "id": "CpIBR1bCQji6"
   },
   "source": [
    "More generally, given index arrays `idx0` and `idx1` with `N` elements each, `a[idx0, idx1]` is equivalent to:\n",
    "\n",
    "```\n",
    "torch.tensor([\n",
    "  a[idx0[0], idx1[0]],\n",
    "  a[idx0[1], idx1[1]],\n",
    "  ...,\n",
    "  a[idx0[N - 1], idx1[N - 1]]\n",
    "])\n",
    "```\n",
    "\n",
    "(A similar pattern extends to tensors with more than two dimensions)\n",
    "\n",
    "We can for example use this to get or set the diagonal of a tensor:"
   ]
  },
  {
   "cell_type": "code",
   "execution_count": null,
   "metadata": {
    "colab": {
     "base_uri": "https://localhost:8080/"
    },
    "executionInfo": {
     "elapsed": 389,
     "status": "ok",
     "timestamp": 1721787470759,
     "user": {
      "displayName": "K Chauncey",
      "userId": "01082062638203565386"
     },
     "user_tz": -480
    },
    "id": "ocIR8R5ZSEaP",
    "outputId": "f8409e56-2d48-4b0c-b88e-794a45afb304"
   },
   "outputs": [
    {
     "name": "stdout",
     "output_type": "stream",
     "text": [
      "Original tensor:\n",
      "tensor([[1, 2, 3],\n",
      "        [4, 5, 6],\n",
      "        [7, 8, 9]])\n",
      "\n",
      "Get the diagonal:\n",
      "tensor([1, 5, 9])\n",
      "\n",
      "After setting the diagonal:\n",
      "tensor([[11,  2,  3],\n",
      "        [ 4, 22,  6],\n",
      "        [ 7,  8, 33]])\n"
     ]
    }
   ],
   "source": [
    "a = torch.tensor([[1, 2, 3], [4, 5, 6], [7, 8, 9]])\n",
    "print('Original tensor:')\n",
    "print(a)\n",
    "\n",
    "idx = [0, 1, 2]\n",
    "print('\\nGet the diagonal:')\n",
    "print(a[idx, idx])\n",
    "\n",
    "# Modify the diagonal\n",
    "a[idx, idx] = torch.tensor([11, 22, 33])\n",
    "print('\\nAfter setting the diagonal:')\n",
    "print(a)"
   ]
  },
  {
   "cell_type": "markdown",
   "metadata": {
    "id": "O-cr-EqA0vfO"
   },
   "source": [
    "One useful trick with integer array indexing is selecting or mutating one element from each row or column of a matrix:"
   ]
  },
  {
   "cell_type": "code",
   "execution_count": null,
   "metadata": {
    "colab": {
     "base_uri": "https://localhost:8080/"
    },
    "executionInfo": {
     "elapsed": 640,
     "status": "ok",
     "timestamp": 1721787499968,
     "user": {
      "displayName": "K Chauncey",
      "userId": "01082062638203565386"
     },
     "user_tz": -480
    },
    "id": "HWA8E8iI0x17",
    "outputId": "a5624932-eada-4913-d4e1-2da415d2fc6a"
   },
   "outputs": [
    {
     "name": "stdout",
     "output_type": "stream",
     "text": [
      "Original tensor:\n",
      "tensor([[ 1,  2,  3],\n",
      "        [ 4,  5,  6],\n",
      "        [ 7,  8,  9],\n",
      "        [10, 11, 12]])\n",
      "\n",
      "Select one element from each row:\n",
      "tensor([ 2,  6,  8, 10])\n",
      "\n",
      "After modifying one element from each row:\n",
      "tensor([[ 1,  0,  3],\n",
      "        [ 4,  5,  0],\n",
      "        [ 7,  0,  9],\n",
      "        [ 0, 11, 12]])\n"
     ]
    }
   ],
   "source": [
    "# Create a new tensor from which we will select elements\n",
    "a = torch.tensor([[1, 2, 3], [4, 5, 6], [7, 8, 9], [10, 11, 12]])\n",
    "print('Original tensor:')\n",
    "print(a)\n",
    "\n",
    "# Take on element from each row of a:\n",
    "# from row 0, take element 1;\n",
    "# from row 1, take element 2;\n",
    "# from row 2, take element 1;\n",
    "# from row 3, take element 0\n",
    "idx0 = torch.arange(a.shape[0])  # Quick way to build [0, 1, 2, 3]\n",
    "idx1 = torch.tensor([1, 2, 1, 0])\n",
    "print('\\nSelect one element from each row:')\n",
    "print(a[idx0, idx1])\n",
    "\n",
    "# Now set each of those elements to zero\n",
    "a[idx0, idx1] = 0\n",
    "print('\\nAfter modifying one element from each row:')\n",
    "print(a)"
   ]
  },
  {
   "cell_type": "markdown",
   "metadata": {
    "id": "s5_-WUmSVEoR"
   },
   "source": [
    "**Your turn**: in the file `pytorch101.py`, implement the functions `shuffle_cols`, `reverse_rows`, and `take_one_elem_per_col` to practice using integer indexing to manipulate tensors. In each of these functions, your implementation should construct the output tensor **using a single indexing operation on the input**."
   ]
  },
  {
   "cell_type": "code",
   "execution_count": null,
   "metadata": {
    "colab": {
     "base_uri": "https://localhost:8080/"
    },
    "executionInfo": {
     "elapsed": 772,
     "status": "ok",
     "timestamp": 1721788927773,
     "user": {
      "displayName": "K Chauncey",
      "userId": "01082062638203565386"
     },
     "user_tz": -480
    },
    "id": "FX05_ov5VTQZ",
    "outputId": "67c50247-224f-4907-bfb3-fa18836b9681"
   },
   "outputs": [
    {
     "name": "stdout",
     "output_type": "stream",
     "text": [
      "Here is x:\n",
      "tensor([[ 1,  2,  3],\n",
      "        [ 4,  5,  6],\n",
      "        [ 7,  8,  9],\n",
      "        [10, 11, 12]])\n",
      "\n",
      "Here is shuffle_cols(x):\n",
      "tensor([[ 1,  1,  3,  2],\n",
      "        [ 4,  4,  6,  5],\n",
      "        [ 7,  7,  9,  8],\n",
      "        [10, 10, 12, 11]])\n",
      "Correct: True\n",
      "\n",
      "Here is reverse_rows(x):\n",
      "tensor([[10, 11, 12],\n",
      "        [ 7,  8,  9],\n",
      "        [ 4,  5,  6],\n",
      "        [ 1,  2,  3]])\n",
      "Correct: True\n",
      "\n",
      "Here is take_one_elem_per_col(x):\n",
      "tensor([ 4,  2, 12])\n",
      "Correct: True\n"
     ]
    }
   ],
   "source": [
    "from pytorch101 import shuffle_cols, reverse_rows, take_one_elem_per_col\n",
    "\n",
    "# Build a tensor of shape (4, 3):\n",
    "# [[ 1,  2,  3],\n",
    "#  [ 4,  5,  6],\n",
    "#  [ 7,  8,  9],\n",
    "#  [10, 11, 12]]\n",
    "x = torch.tensor([[1, 2, 3], [4, 5, 6], [7, 8, 9], [10, 11, 12]])\n",
    "print('Here is x:')\n",
    "print(x)\n",
    "\n",
    "y1 = shuffle_cols(x)\n",
    "print('\\nHere is shuffle_cols(x):')\n",
    "print(y1)\n",
    "expected = [[1, 1, 3, 2], [4, 4, 6, 5], [7, 7, 9, 8], [10, 10, 12, 11]]\n",
    "y1_correct = torch.is_tensor(y1) and y1.tolist() == expected\n",
    "print('Correct: %r\\n' % y1_correct)\n",
    "\n",
    "y2 = reverse_rows(x)\n",
    "print('Here is reverse_rows(x):')\n",
    "print(y2)\n",
    "expected = [[10, 11, 12], [7, 8, 9], [4, 5, 6], [1, 2, 3]]\n",
    "y2_correct = torch.is_tensor(y2) and y2.tolist() == expected\n",
    "print('Correct: %r\\n' % y2_correct)\n",
    "\n",
    "y3 = take_one_elem_per_col(x)\n",
    "print('Here is take_one_elem_per_col(x):')\n",
    "print(y3)\n",
    "expected = [4, 2, 12]\n",
    "y3_correct = torch.is_tensor(y3) and y3.tolist() == expected\n",
    "print('Correct: %r' % y3_correct)"
   ]
  },
  {
   "cell_type": "markdown",
   "metadata": {
    "id": "Q68ZApgH31W9"
   },
   "source": [
    "Now implement the function `make_one_hot` that creates a matrix of **one-hot vectors** from a list of Python integers.\n",
    "\n",
    "A one-hot vector for an integer $n$ is a vector that has a one in its $n$th slot, and zeros in all other slots. One-hot vectors are commonly used to represent categorical variables in machine learning models.\n",
    "\n",
    "For example, given a list `[1, 4, 3, 2]` of integers, your function should produce the tensor:\n",
    "\n",
    "```\n",
    "[[0 1 0 0 0],\n",
    " [0 0 0 0 1],\n",
    " [0 0 0 1 0],\n",
    " [0 0 1 0 0]]\n",
    "```\n",
    "\n",
    "Here the first row corresponds to the first element of the list: it has a one at index 1, and zeros at all other indices. The second row corresponds to the second element of the list: it has a one at index 4, and zeros at all other indices. The other rows follow the same pattern. The output has just enough columns so that none of the rows go out-of-bounds: the largest index in the input is 4, so the output matrix has 5 columns."
   ]
  },
  {
   "cell_type": "code",
   "execution_count": null,
   "metadata": {
    "colab": {
     "base_uri": "https://localhost:8080/"
    },
    "executionInfo": {
     "elapsed": 370,
     "status": "ok",
     "timestamp": 1721789618804,
     "user": {
      "displayName": "K Chauncey",
      "userId": "01082062638203565386"
     },
     "user_tz": -480
    },
    "id": "jaT1kuQ37Rsq",
    "outputId": "1d6f48e7-be0d-4dc4-c7f3-77f1c6c7eef6"
   },
   "outputs": [
    {
     "name": "stdout",
     "output_type": "stream",
     "text": [
      "Here is y0:\n",
      "tensor([[0., 1., 0., 0., 0.],\n",
      "        [0., 0., 0., 0., 1.],\n",
      "        [0., 0., 0., 1., 0.],\n",
      "        [0., 0., 1., 0., 0.]])\n",
      "y0 correct:  True\n",
      "\n",
      "Here is y1:\n",
      "tensor([[0., 1., 0., 0., 0., 0., 0., 0.],\n",
      "        [0., 0., 0., 1., 0., 0., 0., 0.],\n",
      "        [0., 0., 0., 0., 0., 1., 0., 0.],\n",
      "        [0., 0., 0., 0., 0., 0., 0., 1.],\n",
      "        [0., 0., 0., 0., 0., 0., 1., 0.],\n",
      "        [0., 0., 1., 0., 0., 0., 0., 0.]])\n",
      "y1 correct:  True\n"
     ]
    }
   ],
   "source": [
    "from pytorch101 import make_one_hot\n",
    "\n",
    "def check_one_hot(x, y):\n",
    "    C = y.shape[1]\n",
    "    for i, n in enumerate(x):\n",
    "        if n >= C: return False\n",
    "        for j in range(C):\n",
    "            expected = 1.0 if j == n else 0.0\n",
    "            if y[i, j].item() != expected: return False\n",
    "        return True\n",
    "\n",
    "x0 = [1, 4, 3, 2]\n",
    "y0 = make_one_hot(x0)\n",
    "print('Here is y0:')\n",
    "print(y0)\n",
    "print('y0 correct: ', check_one_hot(x0, y0))\n",
    "\n",
    "x1 = [1, 3, 5, 7, 6, 2]\n",
    "y1 = make_one_hot(x1)\n",
    "print('\\nHere is y1:')\n",
    "print(y1)\n",
    "print('y1 correct: ', check_one_hot(x1, y1))"
   ]
  },
  {
   "cell_type": "markdown",
   "metadata": {
    "id": "oGt8ZPb_vixw"
   },
   "source": [
    "### Boolean tensor indexing"
   ]
  },
  {
   "cell_type": "markdown",
   "metadata": {
    "id": "6CkQaRj01xmU"
   },
   "source": [
    "Boolean tensor indexing lets you pick out arbitrary elements of a tensor according to a boolean mask. Frequently this type of indexing is used to select or modify the elements of a tensor that satisfy some condition.\n",
    "\n",
    "In PyTorch, we use tensors of dtype `torch.bool` to hold boolean masks.\n",
    "\n",
    "(Prior to version 1.2.0, there was no `torch.bool` type so instead `torch.uint8` was usually used to represent boolean data, with 0 indicating false and 1 indicating true. Watch out for this in older PyTorch code!)"
   ]
  },
  {
   "cell_type": "code",
   "execution_count": null,
   "metadata": {
    "colab": {
     "base_uri": "https://localhost:8080/"
    },
    "executionInfo": {
     "elapsed": 374,
     "status": "ok",
     "timestamp": 1721789702684,
     "user": {
      "displayName": "K Chauncey",
      "userId": "01082062638203565386"
     },
     "user_tz": -480
    },
    "id": "29Zf7rb82Dkd",
    "outputId": "a4162bc7-ec51-4ec7-e542-8ac741a78c63"
   },
   "outputs": [
    {
     "name": "stdout",
     "output_type": "stream",
     "text": [
      "Original tensor:\n",
      "tensor([[1, 2],\n",
      "        [3, 4],\n",
      "        [5, 6]])\n",
      "\n",
      "Mask tensor:\n",
      "tensor([[False, False],\n",
      "        [False,  True],\n",
      "        [ True,  True]])\n",
      "\n",
      "Selecting elements with the mask:\n",
      "tensor([4, 5, 6])\n",
      "\n",
      "After modifying with a mask:\n",
      "tensor([[0, 0],\n",
      "        [0, 4],\n",
      "        [5, 6]])\n"
     ]
    }
   ],
   "source": [
    "a = torch.tensor([[1,2], [3, 4], [5, 6]])\n",
    "print('Original tensor:')\n",
    "print(a)\n",
    "\n",
    "# Find the elements of a that are bigger than 3. The mask has the same shape as\n",
    "# a, where each element of mask tells whether the corresponding element of a\n",
    "# is greater than three.\n",
    "mask = (a > 3)\n",
    "print('\\nMask tensor:')\n",
    "print(mask)\n",
    "\n",
    "# We can use the mask to construct a rank-1 tensor containing the elements of a\n",
    "# that are selected by the mask\n",
    "print('\\nSelecting elements with the mask:')\n",
    "print(a[mask])\n",
    "\n",
    "# We can also use boolean masks to modify tensors; for example this sets all\n",
    "# elements <= 3 to zero:\n",
    "a[a <= 3] = 0\n",
    "print('\\nAfter modifying with a mask:')\n",
    "print(a)"
   ]
  },
  {
   "cell_type": "markdown",
   "metadata": {
    "id": "LtSmmMGodrTX"
   },
   "source": [
    "**Your turn**: In the file `pytorch101.py`, implement the function `sum_positive_entries` which computes the sum of all positive entries in a torch tensor. You can easily accomplish this using boolean tensor indexing. Your implementation should perform only a single indexing operation on the input tensor."
   ]
  },
  {
   "cell_type": "code",
   "execution_count": null,
   "metadata": {
    "colab": {
     "base_uri": "https://localhost:8080/"
    },
    "executionInfo": {
     "elapsed": 365,
     "status": "ok",
     "timestamp": 1721790763012,
     "user": {
      "displayName": "K Chauncey",
      "userId": "01082062638203565386"
     },
     "user_tz": -480
    },
    "id": "2hkeYXN9d5xh",
    "outputId": "7ec11e5b-243d-498f-9693-9969ee9c5c04"
   },
   "outputs": [
    {
     "name": "stdout",
     "output_type": "stream",
     "text": [
      "Correct for x0:  True\n",
      "Correct for x1:  True\n",
      "Correct for x2:  True\n"
     ]
    }
   ],
   "source": [
    "from pytorch101 import sum_positive_entries\n",
    "\n",
    "# Make a few test cases\n",
    "torch.manual_seed(598)\n",
    "x0 = torch.tensor([[-1, -1, 0], [0, 1, 2], [3, 4, 5]])\n",
    "x1 = torch.tensor([-100, 0, 1, 2, 3])\n",
    "x2 = torch.randn(100, 100).long()\n",
    "print('Correct for x0: ', sum_positive_entries(x0) == 15)\n",
    "print('Correct for x1: ', sum_positive_entries(x1) == 6)\n",
    "print('Correct for x2: ', sum_positive_entries(x2) == 1871)"
   ]
  },
  {
   "cell_type": "markdown",
   "metadata": {
    "id": "Ad-xqELwyqpN"
   },
   "source": [
    "## Reshaping operations"
   ]
  },
  {
   "cell_type": "markdown",
   "metadata": {
    "id": "Ql9_eXuU4OG8"
   },
   "source": [
    "### View"
   ]
  },
  {
   "cell_type": "markdown",
   "metadata": {
    "id": "xfPb_2BY0HKw"
   },
   "source": [
    "PyTorch provides many ways to manipulate the shapes of tensors. The simplest example is [`.view()`](https://pytorch.org/docs/stable/generated/torch.Tensor.view.html): This returns a new tensor with the same number of elements as its input, but with a different shape.\n",
    "\n",
    "We can use `.view()` to flatten matrices into vectors, and to convert rank-1 vectors into rank-2 row or column matrices:"
   ]
  },
  {
   "cell_type": "code",
   "execution_count": null,
   "metadata": {
    "colab": {
     "base_uri": "https://localhost:8080/"
    },
    "executionInfo": {
     "elapsed": 369,
     "status": "ok",
     "timestamp": 1721790958533,
     "user": {
      "displayName": "K Chauncey",
      "userId": "01082062638203565386"
     },
     "user_tz": -480
    },
    "id": "kw-M7C_61FZK",
    "outputId": "9a6b3bcf-7032-4e15-ce48-be6fec5d4ab2"
   },
   "outputs": [
    {
     "name": "stdout",
     "output_type": "stream",
     "text": [
      "Original tensor:\n",
      "tensor([[1, 2, 3, 4],\n",
      "        [5, 6, 7, 8]])\n",
      "shape: torch.Size([2, 4])\n",
      "\n",
      "Flattened tensor:\n",
      "tensor([1, 2, 3, 4, 5, 6, 7, 8])\n",
      "shape: torch.Size([8])\n",
      "\n",
      "Row vector:\n",
      "tensor([[1, 2, 3, 4, 5, 6, 7, 8]])\n",
      "shape: torch.Size([1, 8])\n",
      "\n",
      "Column vector:\n",
      "tensor([[1],\n",
      "        [2],\n",
      "        [3],\n",
      "        [4],\n",
      "        [5],\n",
      "        [6],\n",
      "        [7],\n",
      "        [8]])\n",
      "shape: torch.Size([8, 1])\n",
      "\n",
      "Rank 3 tensor:\n",
      "tensor([[[1, 2],\n",
      "         [3, 4]],\n",
      "\n",
      "        [[5, 6],\n",
      "         [7, 8]]])\n",
      "shape: torch.Size([2, 2, 2])\n"
     ]
    }
   ],
   "source": [
    "x0 = torch.tensor([[1, 2, 3, 4], [5, 6, 7, 8]])\n",
    "print('Original tensor:')\n",
    "print(x0)\n",
    "print('shape:', x0.shape)\n",
    "\n",
    "# Flatten x0 into a rank 1 vector of shape (8,)\n",
    "x1 = x0.view(8)\n",
    "print('\\nFlattened tensor:')\n",
    "print(x1)\n",
    "print('shape:', x1.shape)\n",
    "\n",
    "# Convert x1 to a rank 2 \"row vector\" of shape (1, 8)\n",
    "x2 = x1.view(1, 8)\n",
    "print('\\nRow vector:')\n",
    "print(x2)\n",
    "print('shape:', x2.shape)\n",
    "\n",
    "# Convert x1 to a rank 2 \"column vector\" of shape (8, 1)\n",
    "x3 = x1.view(8, 1)\n",
    "print('\\nColumn vector:')\n",
    "print(x3)\n",
    "print('shape:', x3.shape)\n",
    "\n",
    "# Convert x1 to a rank 3 tensor of shape (2, 2, 2):\n",
    "x4 = x1.view(2, 2, 2)\n",
    "print('\\nRank 3 tensor:')\n",
    "print(x4)\n",
    "print('shape:', x4.shape)"
   ]
  },
  {
   "cell_type": "markdown",
   "metadata": {
    "id": "eHsZ8BPF2PEq"
   },
   "source": [
    "As a convenience, calls to `.view()` may include a single -1 argument; this puts enough elements on that dimension so that the output has the same number of elements as the input. This makes it easy to write some reshape operations in a way that is agnostic to the shape of the tensor:"
   ]
  },
  {
   "cell_type": "code",
   "execution_count": null,
   "metadata": {
    "colab": {
     "base_uri": "https://localhost:8080/"
    },
    "executionInfo": {
     "elapsed": 386,
     "status": "ok",
     "timestamp": 1721791151455,
     "user": {
      "displayName": "K Chauncey",
      "userId": "01082062638203565386"
     },
     "user_tz": -480
    },
    "id": "qNWu-R_J2qFY",
    "outputId": "8c15695a-73e7-4fcc-fe5f-1d0b73ee9364"
   },
   "outputs": [
    {
     "name": "stdout",
     "output_type": "stream",
     "text": [
      "x0:\n",
      "tensor([[1, 2, 3],\n",
      "        [4, 5, 6]])\n",
      "x0_flat:\n",
      "tensor([1, 2, 3, 4, 5, 6])\n",
      "x0_row:\n",
      "tensor([[1, 2, 3, 4, 5, 6]])\n",
      "\n",
      "x1:\n",
      "tensor([[1, 2],\n",
      "        [3, 4]])\n",
      "x1_flat:\n",
      "tensor([1, 2, 3, 4])\n",
      "x1_row:\n",
      "tensor([[1, 2, 3, 4]])\n"
     ]
    }
   ],
   "source": [
    "# We can reuse these functions for tensors of different shapes\n",
    "def flatten(x):\n",
    "    return x.view(-1)\n",
    "\n",
    "def make_row_vec(x):\n",
    "    return x.view(1, -1)\n",
    "\n",
    "x0 = torch.tensor([[1, 2, 3], [4, 5, 6]])\n",
    "x0_flat = flatten(x0)\n",
    "x0_row = make_row_vec(x0)\n",
    "print('x0:')\n",
    "print(x0)\n",
    "print('x0_flat:')\n",
    "print(x0_flat)\n",
    "print('x0_row:')\n",
    "print(x0_row)\n",
    "\n",
    "x1 = torch.tensor([[1, 2], [3, 4]])\n",
    "x1_flat = flatten(x1)\n",
    "x1_row = make_row_vec(x1)\n",
    "print('\\nx1:')\n",
    "print(x1)\n",
    "print('x1_flat:')\n",
    "print(x1_flat)\n",
    "print('x1_row:')\n",
    "print(x1_row)"
   ]
  },
  {
   "cell_type": "markdown",
   "metadata": {
    "id": "DK-ZB5aB2NPq"
   },
   "source": [
    "As its name implies, a tensor returned by `.view()` shares the same data as the input, so changes to one will affect the other and vice-versa:"
   ]
  },
  {
   "cell_type": "code",
   "execution_count": null,
   "metadata": {
    "colab": {
     "base_uri": "https://localhost:8080/"
    },
    "executionInfo": {
     "elapsed": 396,
     "status": "ok",
     "timestamp": 1721791316856,
     "user": {
      "displayName": "K Chauncey",
      "userId": "01082062638203565386"
     },
     "user_tz": -480
    },
    "id": "ebT99rUo2McN",
    "outputId": "29ac6336-e45b-4694-c1df-79cf25b0dd3e"
   },
   "outputs": [
    {
     "name": "stdout",
     "output_type": "stream",
     "text": [
      "x before modifying:\n",
      "tensor([[1, 2, 3],\n",
      "        [4, 5, 6]])\n",
      "x_flat before modifying:\n",
      "tensor([1, 2, 3, 4, 5, 6])\n",
      "\n",
      "x after modifying:\n",
      "tensor([[10, 20,  3],\n",
      "        [ 4,  5,  6]])\n",
      "x_flat after modifying:\n",
      "tensor([10, 20,  3,  4,  5,  6])\n"
     ]
    }
   ],
   "source": [
    "x = torch.tensor([[1, 2, 3], [4, 5, 6]])\n",
    "x_flat = x.view(-1)\n",
    "print('x before modifying:')\n",
    "print(x)\n",
    "print('x_flat before modifying:')\n",
    "print(x_flat)\n",
    "\n",
    "x[0, 0] = 10   # x[0, 0] and x_flat[0] point to the same data\n",
    "x_flat[1] = 20 # x_flat[1] and x[0, 1] point to the same data\n",
    "\n",
    "print('\\nx after modifying:')\n",
    "print(x)\n",
    "print('x_flat after modifying:')\n",
    "print(x_flat)"
   ]
  },
  {
   "cell_type": "markdown",
   "metadata": {
    "id": "Z150qBob4Wkz"
   },
   "source": [
    "### Swapping axes"
   ]
  },
  {
   "cell_type": "markdown",
   "metadata": {
    "id": "TCMDxbyBys78"
   },
   "source": [
    "Another common reshape operation you might want to perform is transposing a matrix. You might be surprised if you try to transpose a matrix with `.view()`: The `view()` function takes elements in row-major order, so **you cannot transpose matrices with `.view()`**.\n",
    "\n",
    "In general, you should only use `.view()` to add new dimensions to a tensor, or to collapse adjacent dimensions of a tensor.\n",
    "\n",
    "For other types of reshape operations, you usually need to use a function that can swap axes of a tensor. The simplest such function is `.t()`, specificially for transposing matrices. It is available both as a [function in the `torch` module](https://pytorch.org/docs/stable/generated/torch.t.html#torch.t), and as a [tensor instance method](https://pytorch.org/docs/stable/generated/torch.Tensor.t.html):"
   ]
  },
  {
   "cell_type": "code",
   "execution_count": null,
   "metadata": {
    "colab": {
     "base_uri": "https://localhost:8080/"
    },
    "executionInfo": {
     "elapsed": 366,
     "status": "ok",
     "timestamp": 1721791475199,
     "user": {
      "displayName": "K Chauncey",
      "userId": "01082062638203565386"
     },
     "user_tz": -480
    },
    "id": "o_B4NuX6zQm-",
    "outputId": "0766858a-3ada-4f22-a1a8-d95bc8f3ead0"
   },
   "outputs": [
    {
     "name": "stdout",
     "output_type": "stream",
     "text": [
      "Original matrix:\n",
      "tensor([[1, 2, 3],\n",
      "        [4, 5, 6]])\n",
      "\n",
      "Transposing with view DOES NOT WORK!\n",
      "tensor([[1, 2],\n",
      "        [3, 4],\n",
      "        [5, 6]])\n",
      "\n",
      "Transposed matrix:\n",
      "tensor([[1, 4],\n",
      "        [2, 5],\n",
      "        [3, 6]])\n",
      "tensor([[1, 4],\n",
      "        [2, 5],\n",
      "        [3, 6]])\n"
     ]
    }
   ],
   "source": [
    "x = torch.tensor([[1, 2, 3], [4, 5, 6]])\n",
    "print('Original matrix:')\n",
    "print(x)\n",
    "print('\\nTransposing with view DOES NOT WORK!')\n",
    "print(x.view(3, 2))\n",
    "print('\\nTransposed matrix:')\n",
    "print(torch.t(x))\n",
    "print(x.t())"
   ]
  },
  {
   "cell_type": "markdown",
   "metadata": {
    "id": "RN93xo98zn0v"
   },
   "source": [
    "For tensors with more than two dimensions, we can use the function [`torch.transpose`](https://pytorch.org/docs/stable/generated/torch.transpose.html) (or its [instance method variant](https://pytorch.org/docs/stable/generated/torch.Tensor.transpose.html)) to swap arbitrary dimensions.\n",
    "\n",
    "If you want to swap multiple axes at the same time, you can use [`torch.permute`](https://pytorch.org/docs/stable/generated/torch.permute.html) (or its [instance method variant](https://pytorch.org/docs/stable/generated/torch.Tensor.permute.html)) method to arbitrarily permute dimensions:"
   ]
  },
  {
   "cell_type": "code",
   "execution_count": null,
   "metadata": {
    "colab": {
     "base_uri": "https://localhost:8080/"
    },
    "executionInfo": {
     "elapsed": 349,
     "status": "ok",
     "timestamp": 1721791557648,
     "user": {
      "displayName": "K Chauncey",
      "userId": "01082062638203565386"
     },
     "user_tz": -480
    },
    "id": "XgN7YB8YzzkA",
    "outputId": "1860e10b-09b0-489f-ebe9-d9b28ccfffa7"
   },
   "outputs": [
    {
     "name": "stdout",
     "output_type": "stream",
     "text": [
      "Original tensor:\n",
      "tensor([[[ 1,  2,  3,  4],\n",
      "         [ 5,  6,  7,  8],\n",
      "         [ 9, 10, 11, 12]],\n",
      "\n",
      "        [[13, 14, 15, 16],\n",
      "         [17, 18, 19, 20],\n",
      "         [21, 22, 23, 24]]])\n",
      "shape: torch.Size([2, 3, 4])\n",
      "\n",
      "Swap axes 1 and 2:\n",
      "tensor([[[ 1,  5,  9],\n",
      "         [ 2,  6, 10],\n",
      "         [ 3,  7, 11],\n",
      "         [ 4,  8, 12]],\n",
      "\n",
      "        [[13, 17, 21],\n",
      "         [14, 18, 22],\n",
      "         [15, 19, 23],\n",
      "         [16, 20, 24]]])\n",
      "torch.Size([2, 4, 3])\n",
      "\n",
      "Permute axes\n",
      "tensor([[[ 1, 13],\n",
      "         [ 2, 14],\n",
      "         [ 3, 15],\n",
      "         [ 4, 16]],\n",
      "\n",
      "        [[ 5, 17],\n",
      "         [ 6, 18],\n",
      "         [ 7, 19],\n",
      "         [ 8, 20]],\n",
      "\n",
      "        [[ 9, 21],\n",
      "         [10, 22],\n",
      "         [11, 23],\n",
      "         [12, 24]]])\n",
      "shape: torch.Size([3, 4, 2])\n"
     ]
    }
   ],
   "source": [
    "# Create a tensor of shape (2, 3, 4)\n",
    "x0 = torch.tensor([\n",
    "     [[1,  2,  3,  4],\n",
    "      [5,  6,  7,  8],\n",
    "      [9, 10, 11, 12]],\n",
    "     [[13, 14, 15, 16],\n",
    "      [17, 18, 19, 20],\n",
    "      [21, 22, 23, 24]]])\n",
    "print('Original tensor:')\n",
    "print(x0)\n",
    "print('shape:', x0.shape)\n",
    "\n",
    "# Swap axes 1 and 2; shape is (2, 4, 3)\n",
    "x1 = x0.transpose(1, 2)\n",
    "print('\\nSwap axes 1 and 2:')\n",
    "print(x1)\n",
    "print(x1.shape)\n",
    "\n",
    "# Permute axes; the argument (1, 2, 0) means:\n",
    "# - Make the old dimension 1 appear at dimension 0;\n",
    "# - Make the old dimension 2 appear at dimension 1;\n",
    "# - Make the old dimension 0 appear at dimension 2\n",
    "# This results in a tensor of shape (3, 4, 2)\n",
    "x2 = x0.permute(1, 2, 0)\n",
    "print('\\nPermute axes')\n",
    "print(x2)\n",
    "print('shape:', x2.shape)"
   ]
  },
  {
   "cell_type": "markdown",
   "metadata": {
    "id": "f4SJCVbf-bZ0"
   },
   "source": [
    "### Contiguous tensors"
   ]
  },
  {
   "cell_type": "markdown",
   "metadata": {
    "id": "ubOOujO_-pQT"
   },
   "source": [
    "Some combinations of reshaping operations will fail with cryptic errors. The exact reasons for this have to do with the way that tensors and views of tensors are implemented, and are beyond the scope of this assignment. However if you're curious, [this blog post by Edward Yang](http://blog.ezyang.com/2019/05/pytorch-internals/) gives a clear explanation of the problem.\n",
    "\n",
    "What you need to know is that you can typically overcome these sorts of errors by either by calling [`.contiguous()`](https://pytorch.org/docs/stable/generated/torch.Tensor.contiguous.html) before `.view()`, or by using [`.reshape()`](https://pytorch.org/docs/stable/generated/torch.reshape.html) instead of `.view()`."
   ]
  },
  {
   "cell_type": "code",
   "execution_count": null,
   "metadata": {
    "colab": {
     "base_uri": "https://localhost:8080/"
    },
    "executionInfo": {
     "elapsed": 402,
     "status": "ok",
     "timestamp": 1721792140543,
     "user": {
      "displayName": "K Chauncey",
      "userId": "01082062638203565386"
     },
     "user_tz": -480
    },
    "id": "YGC6NERq_CT9",
    "outputId": "0cf8cd96-1614-4b3d-e665-7ad2ea2e3969"
   },
   "outputs": [
    {
     "name": "stdout",
     "output_type": "stream",
     "text": [
      "<class 'RuntimeError'> view size is not compatible with input tensor's size and stride (at least one dimension spans across two contiguous subspaces). Use .reshape(...) instead.\n",
      "x1 shape:  torch.Size([8, 3])\n",
      "x2 shape:  torch.Size([8, 3])\n"
     ]
    }
   ],
   "source": [
    "x0 = torch.randn(2, 3, 4)\n",
    "\n",
    "try:\n",
    "  # This sequence of reshape operations will crash\n",
    "  x1 = x0.transpose(1, 2).view(8, 3)\n",
    "except RuntimeError as e:\n",
    "  print(type(e), e)\n",
    "\n",
    "# We can solve the problem using either .contiguous() or .reshape()\n",
    "x1 = x0.transpose(1, 2).contiguous().view(8, 3)\n",
    "x2 = x0.transpose(1, 2).reshape(8, 3)\n",
    "print('x1 shape: ', x1.shape)\n",
    "print('x2 shape: ', x2.shape)"
   ]
  },
  {
   "cell_type": "markdown",
   "metadata": {
    "id": "WJiiBxNE-X8g"
   },
   "source": [
    "### **Your turn**"
   ]
  },
  {
   "cell_type": "markdown",
   "metadata": {
    "id": "iOVzHiX-86Ew"
   },
   "source": [
    "In the file `pytorch101.py`, implement the function `reshape_practice` to practice using reshape operations on tensors. Given the 1-dimensional input tensor `x` containing the numbers 0 through 23 in order, it should the following output tensor `y` of shape `(3, 8)` by using reshape operations on x:\n",
    "\n",
    "\n",
    "```\n",
    "y = tensor([[ 0,  1,  2,  3, 12, 13, 14, 15],\n",
    "            [ 4,  5,  6,  7, 16, 17, 18, 19],\n",
    "            [ 8,  9, 10, 11, 20, 21, 22, 23]])\n",
    "```\n",
    "\n",
    "Hint: You will need to create an intermediate tensor of rank 3"
   ]
  },
  {
   "cell_type": "code",
   "execution_count": null,
   "metadata": {
    "colab": {
     "base_uri": "https://localhost:8080/"
    },
    "executionInfo": {
     "elapsed": 415,
     "status": "ok",
     "timestamp": 1721793714426,
     "user": {
      "displayName": "K Chauncey",
      "userId": "01082062638203565386"
     },
     "user_tz": -480
    },
    "id": "8reAZGzFVTQ3",
    "outputId": "0e572881-6a07-4a77-ae8e-b0631ca18e19"
   },
   "outputs": [
    {
     "name": "stdout",
     "output_type": "stream",
     "text": [
      "Here is x:\n",
      "tensor([ 0,  1,  2,  3,  4,  5,  6,  7,  8,  9, 10, 11, 12, 13, 14, 15, 16, 17,\n",
      "        18, 19, 20, 21, 22, 23])\n",
      "Here is y:\n",
      "tensor([[ 0,  1,  2,  3, 12, 13, 14, 15],\n",
      "        [ 4,  5,  6,  7, 16, 17, 18, 19],\n",
      "        [ 8,  9, 10, 11, 20, 21, 22, 23]])\n",
      "Correct: True\n"
     ]
    }
   ],
   "source": [
    "from pytorch101 import reshape_practice\n",
    "\n",
    "x = torch.arange(24)\n",
    "print('Here is x:')\n",
    "print(x)\n",
    "y = reshape_practice(x)\n",
    "print('Here is y:')\n",
    "print(y)\n",
    "\n",
    "expected = [\n",
    "    [0, 1,  2,  3, 12, 13, 14, 15],\n",
    "    [4, 5,  6,  7, 16, 17, 18, 19],\n",
    "    [8, 9, 10, 11, 20, 21, 22, 23]]\n",
    "print('Correct:', y.tolist() == expected)"
   ]
  },
  {
   "cell_type": "markdown",
   "metadata": {
    "id": "NgcdvD1evxTQ"
   },
   "source": [
    "## Tensor operations\n",
    "So far we have seen how to construct, access, and reshape tensors. But one of the most important reasons to use tensors is for performing computation! PyTorch provides many different operations to perform computations on tensors."
   ]
  },
  {
   "cell_type": "markdown",
   "metadata": {
    "id": "1BCVlPHZ4_Qz"
   },
   "source": [
    "### Elementwise operations"
   ]
  },
  {
   "cell_type": "markdown",
   "metadata": {
    "id": "f2wbN18E5CKI"
   },
   "source": [
    "Basic mathematical functions operate elementwise on tensors, and are available as operator overloads, as functions in the `torch` module, and as instance methods on torch objects; all produce the same results:"
   ]
  },
  {
   "cell_type": "code",
   "execution_count": null,
   "metadata": {
    "colab": {
     "base_uri": "https://localhost:8080/"
    },
    "executionInfo": {
     "elapsed": 378,
     "status": "ok",
     "timestamp": 1721794048165,
     "user": {
      "displayName": "K Chauncey",
      "userId": "01082062638203565386"
     },
     "user_tz": -480
    },
    "id": "QrMkbk535KRZ",
    "outputId": "7e49add5-0f3f-4737-b47e-03be66b8b856"
   },
   "outputs": [
    {
     "name": "stdout",
     "output_type": "stream",
     "text": [
      "Elementwise sum:\n",
      "tensor([[ 6.,  8., 10., 12.]])\n",
      "tensor([[ 6.,  8., 10., 12.]])\n",
      "tensor([[ 6.,  8., 10., 12.]])\n",
      "\n",
      "Elementwise difference:\n",
      "tensor([[-4., -4., -4., -4.]])\n",
      "tensor([[-4., -4., -4., -4.]])\n",
      "tensor([[-4., -4., -4., -4.]])\n",
      "\n",
      "Elementwise product:\n",
      "tensor([[ 5., 12., 21., 32.]])\n",
      "tensor([[ 5., 12., 21., 32.]])\n",
      "tensor([[ 5., 12., 21., 32.]])\n",
      "\n",
      "Elementwise division\n",
      "tensor([[0.2000, 0.3333, 0.4286, 0.5000]])\n",
      "tensor([[0.2000, 0.3333, 0.4286, 0.5000]])\n",
      "tensor([[0.2000, 0.3333, 0.4286, 0.5000]])\n",
      "\n",
      "Elementwise power\n",
      "tensor([[1.0000e+00, 6.4000e+01, 2.1870e+03, 6.5536e+04]])\n",
      "tensor([[1.0000e+00, 6.4000e+01, 2.1870e+03, 6.5536e+04]])\n",
      "tensor([[1.0000e+00, 6.4000e+01, 2.1870e+03, 6.5536e+04]])\n"
     ]
    }
   ],
   "source": [
    "x = torch.tensor([[1, 2, 3, 4]], dtype=torch.float32)\n",
    "y = torch.tensor([[5, 6, 7, 8]], dtype=torch.float32)\n",
    "\n",
    "# Elementwise sum; all give the same result\n",
    "print('Elementwise sum:')\n",
    "print(x + y)\n",
    "print(torch.add(x, y))\n",
    "print(x.add(y))\n",
    "\n",
    "# Elementwise difference\n",
    "print('\\nElementwise difference:')\n",
    "print(x - y)\n",
    "print(torch.sub(x, y))\n",
    "print(x.sub(y))\n",
    "\n",
    "# Elementwise product\n",
    "print('\\nElementwise product:')\n",
    "print(x * y)\n",
    "print(torch.mul(x, y))\n",
    "print(x.mul(y))\n",
    "\n",
    "# Elementwise division\n",
    "print('\\nElementwise division')\n",
    "print(x / y)\n",
    "print(torch.div(x, y))\n",
    "print(x.div(y))\n",
    "\n",
    "# Elementwise power\n",
    "print('\\nElementwise power')\n",
    "print(x ** y)\n",
    "print(torch.pow(x, y))\n",
    "print(x.pow(y))"
   ]
  },
  {
   "cell_type": "markdown",
   "metadata": {
    "id": "A6WwPJMYlYvN"
   },
   "source": [
    "Torch also provides many standard mathematical functions; these are available both as functions in the `torch` module and as instance methods on tensors:\n",
    "\n",
    "You can find a full list of all available mathematical functions [in the documentation](https://pytorch.org/docs/stable/torch.html#pointwise-ops); many functions in the `torch` module have corresponding instance methods [on tensor objects](https://pytorch.org/docs/stable/tensors.html)."
   ]
  },
  {
   "cell_type": "code",
   "execution_count": null,
   "metadata": {
    "colab": {
     "base_uri": "https://localhost:8080/"
    },
    "executionInfo": {
     "elapsed": 399,
     "status": "ok",
     "timestamp": 1721794101142,
     "user": {
      "displayName": "K Chauncey",
      "userId": "01082062638203565386"
     },
     "user_tz": -480
    },
    "id": "s87mjsnG58vR",
    "outputId": "728ba4f5-d536-4881-80cb-dba746db810d"
   },
   "outputs": [
    {
     "name": "stdout",
     "output_type": "stream",
     "text": [
      "Square root:\n",
      "tensor([[1.0000, 1.4142, 1.7321, 2.0000]])\n",
      "tensor([[1.0000, 1.4142, 1.7321, 2.0000]])\n",
      "\n",
      "Trig functions:\n",
      "tensor([[ 0.8415,  0.9093,  0.1411, -0.7568]])\n",
      "tensor([[ 0.8415,  0.9093,  0.1411, -0.7568]])\n",
      "tensor([[ 0.5403, -0.4161, -0.9900, -0.6536]])\n",
      "tensor([[ 0.5403, -0.4161, -0.9900, -0.6536]])\n"
     ]
    }
   ],
   "source": [
    "x = torch.tensor([[1, 2, 3, 4]], dtype=torch.float32)\n",
    "\n",
    "print('Square root:')\n",
    "print(torch.sqrt(x))\n",
    "print(x.sqrt())\n",
    "\n",
    "print('\\nTrig functions:')\n",
    "print(torch.sin(x))\n",
    "print(x.sin())\n",
    "print(torch.cos(x))\n",
    "print(x.cos())"
   ]
  },
  {
   "cell_type": "markdown",
   "metadata": {
    "id": "yDyH9USAuyZ-"
   },
   "source": [
    "### Reduction operations"
   ]
  },
  {
   "cell_type": "markdown",
   "metadata": {
    "id": "wbHP9SpZHoMO"
   },
   "source": [
    "So far we've seen basic arithmetic operations on tensors that operate elementwise. We may sometimes want to perform operations that aggregate over part or all of a tensor, such as a summation; these are called **reduction** operations.\n",
    "\n",
    "Like the elementwise operations above, most reduction operations are available both as functions in the `torch` module and as instance methods on `tensor` objects.\n",
    "\n",
    "The simplest reduction operation is summation. We can use the [`.sum()`](https://pytorch.org/docs/stable/generated/torch.Tensor.sum.html) method (or eqivalently [`torch.sum`](https://pytorch.org/docs/stable/generated/torch.sum.html)) to reduce either an entire tensor, or to reduce along only one dimension of the tensor using the `dim` argument:"
   ]
  },
  {
   "cell_type": "code",
   "execution_count": null,
   "metadata": {
    "colab": {
     "base_uri": "https://localhost:8080/"
    },
    "executionInfo": {
     "elapsed": 387,
     "status": "ok",
     "timestamp": 1721794200221,
     "user": {
      "displayName": "K Chauncey",
      "userId": "01082062638203565386"
     },
     "user_tz": -480
    },
    "id": "LlmsYJWUE2r3",
    "outputId": "43d9fc71-34b5-4a8c-d9f5-caaf6dc3ea53"
   },
   "outputs": [
    {
     "name": "stdout",
     "output_type": "stream",
     "text": [
      "Original tensor:\n",
      "tensor([[1., 2., 3.],\n",
      "        [4., 5., 6.]])\n",
      "\n",
      "Sum over entire tensor:\n",
      "tensor(21.)\n",
      "tensor(21.)\n",
      "\n",
      "Sum over the first dimension:\n",
      "tensor([5., 7., 9.])\n",
      "tensor([5., 7., 9.])\n",
      "\n",
      "Sum over the second dimension:\n",
      "tensor([ 6., 15.])\n",
      "tensor([ 6., 15.])\n"
     ]
    }
   ],
   "source": [
    "x = torch.tensor([[1, 2, 3],\n",
    "                  [4, 5, 6]], dtype=torch.float32)\n",
    "print('Original tensor:')\n",
    "print(x)\n",
    "\n",
    "print('\\nSum over entire tensor:')\n",
    "print(torch.sum(x))\n",
    "print(x.sum())\n",
    "\n",
    "# We can sum over the first dimension:\n",
    "print('\\nSum over the first dimension:')\n",
    "print(torch.sum(x, dim=0))\n",
    "print(x.sum(dim=0))\n",
    "\n",
    "# Sum over the second dimension:\n",
    "print('\\nSum over the second dimension:')\n",
    "print(torch.sum(x, dim=1))\n",
    "print(x.sum(dim=1))"
   ]
  },
  {
   "cell_type": "markdown",
   "metadata": {
    "id": "PCI4tLoD-I12"
   },
   "source": [
    "Students often get confused by the `dim` argument in reduction operations -- how do I sum over rows vs columns?\n",
    "\n",
    "The easiest way to remember is to think about the shapes of the tensors involved.\n",
    "After summing with `dim=d`, the dimension at index `d` of the input is **eliminated** from the shape of the output tensor:"
   ]
  },
  {
   "cell_type": "code",
   "execution_count": null,
   "metadata": {
    "colab": {
     "base_uri": "https://localhost:8080/"
    },
    "executionInfo": {
     "elapsed": 410,
     "status": "ok",
     "timestamp": 1721794565865,
     "user": {
      "displayName": "K Chauncey",
      "userId": "01082062638203565386"
     },
     "user_tz": -480
    },
    "id": "QzzXyYAJ-I12",
    "outputId": "d9b4387f-7252-40e3-87f1-6405faf1eb2e"
   },
   "outputs": [
    {
     "name": "stdout",
     "output_type": "stream",
     "text": [
      "x.shape:  torch.Size([3, 4, 5, 6])\n",
      "x.sum(dim=0).shape:  torch.Size([4, 5, 6])\n",
      "x.sum(dim=1).shape:  torch.Size([3, 5, 6])\n",
      "x.sum(dim=2).shape:  torch.Size([3, 4, 6])\n",
      "x.sum(dim=3).shape:  torch.Size([3, 4, 5])\n"
     ]
    }
   ],
   "source": [
    "# Create a tensor of shape (3, 4, 5, 6)\n",
    "x = torch.randn(3, 4, 5, 6)\n",
    "print('x.shape: ', x.shape)\n",
    "\n",
    "# Summing over dim=0 eliminates the dimension at index 0 (of size 3):\n",
    "print('x.sum(dim=0).shape: ', x.sum(dim=0).shape)\n",
    "\n",
    "# Summing with dim=1 eliminates the dimension at index 1 (of size 4):\n",
    "print('x.sum(dim=1).shape: ', x.sum(dim=1).shape)\n",
    "\n",
    "# Summing with dim=2 eliminates the dimension at index 2 (of size 5):\n",
    "print('x.sum(dim=2).shape: ', x.sum(dim=2).shape)\n",
    "\n",
    "# Summing with dim=3 eliminates the dimension at index 3 (of size 6):\n",
    "print('x.sum(dim=3).shape: ', x.sum(dim=3).shape)"
   ]
  },
  {
   "cell_type": "markdown",
   "metadata": {
    "id": "DzKio_3Quz5a"
   },
   "source": [
    "Other useful reduction operations include [`mean`](https://pytorch.org/docs/stable/generated/torch.mean.html), [`min`](https://pytorch.org/docs/stable/generated/torch.min.html), and [`max`](https://pytorch.org/docs/stable/generated/torch.max.html). You can find a full list of all available reduction operations [in the documentation](https://pytorch.org/docs/stable/torch.html#reduction-ops).\n",
    "\n",
    "Some reduction operations return more than one value; for example `min` returns both the minimum value over the specified dimension, as well as the index where the minimum value occurs:"
   ]
  },
  {
   "cell_type": "code",
   "execution_count": null,
   "metadata": {
    "colab": {
     "base_uri": "https://localhost:8080/"
    },
    "executionInfo": {
     "elapsed": 419,
     "status": "ok",
     "timestamp": 1721794644561,
     "user": {
      "displayName": "K Chauncey",
      "userId": "01082062638203565386"
     },
     "user_tz": -480
    },
    "id": "TFD7aT54H4ik",
    "outputId": "383cae9b-0818-415a-8c4e-b5f79dcc1343"
   },
   "outputs": [
    {
     "name": "stdout",
     "output_type": "stream",
     "text": [
      "Original tensor:\n",
      "tensor([[2., 4., 3., 5.],\n",
      "        [3., 3., 5., 2.]]) torch.Size([2, 4])\n",
      "\n",
      "Overall minimum:  tensor(2.)\n",
      "\n",
      "Minimum along each column:\n",
      "values: tensor([2., 3., 3., 2.])\n",
      "idxs: tensor([0, 1, 0, 1])\n",
      "\n",
      "Minimum along each row:\n",
      "values: tensor([2., 2.])\n",
      "idxs: tensor([0, 3])\n"
     ]
    }
   ],
   "source": [
    "x = torch.tensor([[2, 4, 3, 5], [3, 3, 5, 2]], dtype=torch.float32)\n",
    "print('Original tensor:')\n",
    "print(x, x.shape)\n",
    "\n",
    "# Finding the overall minimum only returns a single value\n",
    "print('\\nOverall minimum: ', x.min())\n",
    "\n",
    "# Compute the minimum along each column; we get both the value and location:\n",
    "# The minimum of the first column is 2, and it appears at index 0;\n",
    "# the minimum of the second column is 3 and it appears at index 1; etc\n",
    "col_min_vals, col_min_idxs = x.min(dim=0)\n",
    "print('\\nMinimum along each column:')\n",
    "print('values:', col_min_vals)\n",
    "print('idxs:', col_min_idxs)\n",
    "\n",
    "# Compute the minimum along each row; we get both the value and the minimum\n",
    "row_min_vals, row_min_idxs = x.min(dim=1)\n",
    "print('\\nMinimum along each row:')\n",
    "print('values:', row_min_vals)\n",
    "print('idxs:', row_min_idxs)"
   ]
  },
  {
   "cell_type": "markdown",
   "metadata": {
    "id": "XFwYRESoFr4t"
   },
   "source": [
    "Reduction operations *reduce* the rank of tensors: the dimension over which you perform the reduction will be removed from the shape of the output. If you pass `keepdim=True` to a reduction operation, the specified dimension will not be removed; the output tensor will instead have a shape of 1 in that dimension.\n",
    "\n",
    "When you are working with multidimensional tensors, thinking about rows and columns can become confusing; instead it's more useful to think about the shape that will result from each operation. For example:"
   ]
  },
  {
   "cell_type": "code",
   "execution_count": null,
   "metadata": {
    "colab": {
     "base_uri": "https://localhost:8080/"
    },
    "executionInfo": {
     "elapsed": 414,
     "status": "ok",
     "timestamp": 1721794767783,
     "user": {
      "displayName": "K Chauncey",
      "userId": "01082062638203565386"
     },
     "user_tz": -480
    },
    "id": "sjcAveyJFqm7",
    "outputId": "eab686bf-34dc-4af5-f61b-13db9a6ed2fc"
   },
   "outputs": [
    {
     "name": "stdout",
     "output_type": "stream",
     "text": [
      "torch.Size([128, 10, 3, 64, 64])\n",
      "torch.Size([128, 3, 64, 64])\n",
      "torch.Size([128, 3, 64])\n",
      "torch.Size([128, 1, 64])\n"
     ]
    }
   ],
   "source": [
    "# Create a tensor of shape (128, 10, 3, 64, 64)\n",
    "x = torch.randn(128, 10, 3, 64, 64)\n",
    "print(x.shape)\n",
    "\n",
    "# Take the mean over dimension 1; shape is now (128, 3, 64, 64)\n",
    "x = x.mean(dim=1)\n",
    "print(x.shape)\n",
    "\n",
    "# Take the sum over dimension 2; shape is now (128, 3, 64)\n",
    "x = x.sum(dim=2)\n",
    "print(x.shape)\n",
    "\n",
    "# Take the mean over dimension 1, but keep the dimension from being eliminated\n",
    "# by passing keepdim=True; shape is now (128, 1, 64)\n",
    "x = x.mean(dim=1, keepdim=True)\n",
    "print(x.shape)"
   ]
  },
  {
   "cell_type": "markdown",
   "metadata": {
    "id": "gXMp4tcM0Q_E"
   },
   "source": [
    "**Your turn**: In the file `pytorch101.py`, implement the function `zero_row_min` which sets the minimum value along each row of a tensor to zero. You should use reduction and indexing operations, and you should not use any explicit loops.\n",
    "\n",
    "Hint: [`clone`](https://pytorch.org/docs/stable/generated/torch.Tensor.clone.html), [`argmin`](https://pytorch.org/docs/stable/generated/torch.Tensor.argmin.html)"
   ]
  },
  {
   "cell_type": "code",
   "execution_count": null,
   "metadata": {
    "colab": {
     "base_uri": "https://localhost:8080/"
    },
    "executionInfo": {
     "elapsed": 383,
     "status": "ok",
     "timestamp": 1721795217056,
     "user": {
      "displayName": "K Chauncey",
      "userId": "01082062638203565386"
     },
     "user_tz": -480
    },
    "id": "aaJzt-Y62blF",
    "outputId": "f151ef6f-7875-4569-c182-11eeb0ac9690"
   },
   "outputs": [
    {
     "name": "stdout",
     "output_type": "stream",
     "text": [
      "Here is x0:\n",
      "tensor([[10, 20, 30],\n",
      "        [ 2,  5,  1]])\n",
      "Here is y0:\n",
      "tensor([[ 0, 20, 30],\n",
      "        [ 2,  5,  0]])\n",
      "y0 correct:  True\n",
      "\n",
      "Here is x1:\n",
      "tensor([[ 2,  5, 10, -1],\n",
      "        [ 1,  3,  2,  4],\n",
      "        [ 5,  6,  2, 10]])\n",
      "Here is y1:\n",
      "tensor([[ 2,  5, 10,  0],\n",
      "        [ 0,  3,  2,  4],\n",
      "        [ 5,  6,  0, 10]])\n",
      "y1 correct:  True\n"
     ]
    }
   ],
   "source": [
    "from pytorch101 import zero_row_min\n",
    "\n",
    "x0 = torch.tensor([[10, 20, 30], [2, 5, 1]])\n",
    "print('Here is x0:')\n",
    "print(x0)\n",
    "y0 = zero_row_min(x0)\n",
    "print('Here is y0:')\n",
    "print(y0)\n",
    "expected = [[0, 20, 30], [2, 5, 0]]\n",
    "y0_correct = torch.is_tensor(y0) and y0.tolist() == expected\n",
    "print('y0 correct: ', y0_correct)\n",
    "\n",
    "x1 = torch.tensor([[2, 5, 10, -1], [1, 3, 2, 4], [5, 6, 2, 10]])\n",
    "print('\\nHere is x1:')\n",
    "print(x1)\n",
    "y1 = zero_row_min(x1)\n",
    "print('Here is y1:')\n",
    "print(y1)\n",
    "expected = [[2, 5, 10, 0], [0, 3, 2, 4], [5, 6, 0, 10]]\n",
    "y1_correct = torch.is_tensor(y1) and y1.tolist() == expected\n",
    "print('y1 correct: ', y1_correct)"
   ]
  },
  {
   "cell_type": "markdown",
   "metadata": {
    "id": "lRyLyXU2u29N"
   },
   "source": [
    "### Matrix operations"
   ]
  },
  {
   "cell_type": "markdown",
   "metadata": {
    "id": "7DwjbapG6MM_"
   },
   "source": [
    "Note that unlike MATLAB, * is elementwise multiplication, not matrix multiplication. PyTorch provides a number of linear algebra functions that compute different types of vector and matrix products. The most commonly used are:\n",
    "\n",
    "- [`torch.dot`](https://pytorch.org/docs/stable/generated/torch.dot.html): Computes inner product of vectors\n",
    "- [`torch.mm`](https://pytorch.org/docs/stable/generated/torch.mm.html): Computes matrix-matrix products\n",
    "- [`torch.mv`](https://pytorch.org/docs/stable/generated/torch.mv.html): Computes matrix-vector products\n",
    "- [`torch.addmm`](https://pytorch.org/docs/stable/generated/torch.addmm.html) / [`torch.addmv`](https://pytorch.org/docs/stable/generated/torch.addmv.html): Computes matrix-matrix and matrix-vector multiplications plus a bias\n",
    "- [`torch.bmm`](https://pytorch.org/docs/stable/generated/torch.bmm.html) / [`torch.baddmm`](https://pytorch.org/docs/stable/generated/torch.baddbmm.html): Batched versions of `torch.mm` and `torch.addmm`, respectively\n",
    "- [`torch.matmul`](https://pytorch.org/docs/stable/generated/torch.matmul.html): General matrix product that performs different operations depending on the rank of the inputs. Confusingly, this is similar to `np.dot` in numpy.\n",
    "\n",
    "You can find a full list of the available linear algebra operators [in the documentation](https://pytorch.org/docs/stable/torch.html#blas-and-lapack-operations).\n",
    "All of these functions are also available as Tensor instance methods, e.g. [`Tensor.dot`](https://pytorch.org/docs/stable/generated/torch.Tensor.dot.html) instead of `torch.dot`.\n",
    "\n",
    "Here is an example of using `torch.dot` to compute inner products. Like the other mathematical operators we've seen, most linear algebra operators are available both as functions in the `torch` module and as instance methods of tensors:"
   ]
  },
  {
   "cell_type": "code",
   "execution_count": null,
   "metadata": {
    "colab": {
     "base_uri": "https://localhost:8080/"
    },
    "executionInfo": {
     "elapsed": 825,
     "status": "ok",
     "timestamp": 1721795388624,
     "user": {
      "displayName": "K Chauncey",
      "userId": "01082062638203565386"
     },
     "user_tz": -480
    },
    "id": "TRUYW2as6ZCh",
    "outputId": "fd79b651-cfaa-4820-b3f4-1b2b2fa2f762"
   },
   "outputs": [
    {
     "name": "stdout",
     "output_type": "stream",
     "text": [
      "Dot products:\n",
      "tensor(219.)\n",
      "tensor(219.)\n",
      "1D tensors expected, but got 2D and 2D tensors\n",
      "\n",
      "Matrix-matrix product:\n",
      "tensor([[19., 22.],\n",
      "        [43., 50.]])\n",
      "tensor([[19., 22.],\n",
      "        [43., 50.]])\n"
     ]
    }
   ],
   "source": [
    "v = torch.tensor([9,10], dtype=torch.float32)\n",
    "w = torch.tensor([11, 12], dtype=torch.float32)\n",
    "\n",
    "# Inner product of vectors\n",
    "print('Dot products:')\n",
    "print(torch.dot(v, w))\n",
    "print(v.dot(w))\n",
    "\n",
    "# dot only works for vectors -- it will give an error for tensors of rank > 1\n",
    "x = torch.tensor([[1,2],[3,4]], dtype=torch.float32)\n",
    "y = torch.tensor([[5,6],[7,8]], dtype=torch.float32)\n",
    "try:\n",
    "  print(x.dot(y))\n",
    "except RuntimeError as e:\n",
    "  print(e)\n",
    "\n",
    "# Instead we use mm for matrix-matrix products:\n",
    "print('\\nMatrix-matrix product:')\n",
    "print(torch.mm(x, y))\n",
    "print(x.mm(y))"
   ]
  },
  {
   "cell_type": "markdown",
   "metadata": {
    "id": "MQRxK34KdHm3"
   },
   "source": [
    "With all the different linear algebra operators that PyTorch provides, there is usually more than one way to compute something. For example to compute matrix-vector products we can use `torch.mv`; we can reshape the vector to have rank 2 and use `torch.mm`; or we can use `torch.matmul`. All give the same results, but the outputs might have different ranks:"
   ]
  },
  {
   "cell_type": "code",
   "execution_count": null,
   "metadata": {
    "colab": {
     "base_uri": "https://localhost:8080/"
    },
    "executionInfo": {
     "elapsed": 396,
     "status": "ok",
     "timestamp": 1721796036321,
     "user": {
      "displayName": "K Chauncey",
      "userId": "01082062638203565386"
     },
     "user_tz": -480
    },
    "id": "qqEzcnHkdRYA",
    "outputId": "fd089597-b430-46a0-96d1-b39715fde859"
   },
   "outputs": [
    {
     "name": "stdout",
     "output_type": "stream",
     "text": [
      "Here is x (rank 2):\n",
      "tensor([[1., 2.],\n",
      "        [3., 4.]])\n",
      "\n",
      "Here is v (rank 1):\n",
      "tensor([ 9., 10.])\n",
      "\n",
      "Matrix-vector product with torch.mv (rank 1 output)\n",
      "tensor([29., 67.])\n",
      "tensor([29., 67.])\n",
      "\n",
      "Matrix-vector product with torch.mm (rank 2 output)\n",
      "tensor([[29.],\n",
      "        [67.]])\n",
      "tensor([[29.],\n",
      "        [67.]])\n",
      "\n",
      "Matrix-vector product with torch.matmul (rank 1 output)\n",
      "tensor([29., 67.])\n",
      "tensor([29., 67.])\n"
     ]
    }
   ],
   "source": [
    "print('Here is x (rank 2):')\n",
    "print(x)\n",
    "print('\\nHere is v (rank 1):')\n",
    "print(v)\n",
    "\n",
    "# Matrix-vector multiply with torch.mv produces a rank-1 output\n",
    "print('\\nMatrix-vector product with torch.mv (rank 1 output)')\n",
    "print(torch.mv(x, v))\n",
    "print(x.mv(v))\n",
    "\n",
    "# We can reshape the vector to have rank 2 and use torch.mm to perform\n",
    "# matrix-vector products, but the result will have rank 2\n",
    "print('\\nMatrix-vector product with torch.mm (rank 2 output)')\n",
    "print(torch.mm(x, v.view(2, 1)))\n",
    "print(x.mm(v.view(2, 1)))\n",
    "\n",
    "print('\\nMatrix-vector product with torch.matmul (rank 1 output)')\n",
    "print(torch.matmul(x, v))\n",
    "print(x.matmul(v))"
   ]
  },
  {
   "cell_type": "markdown",
   "metadata": {
    "id": "-eqQJ5IUjtNT"
   },
   "source": [
    "**Your turn**: In the file `pytorch101.py`, look at the function `batched_matrix_multiply`.\n",
    "\n",
    "You should implement the two variants `batched_matrix_multiply_loop` and `batched_matrix_multiply_noloop`; the first should use an explicit Python loop over the batch dimension, and the second should perform batched matrix multiplication using a single PyTorch operation with no explicit loops.\n",
    "\n",
    "Hint: [`torch.stack`](https://pytorch.org/docs/master/generated/torch.stack.html), [`torch.bmm`](https://pytorch.org/docs/stable/generated/torch.bmm.html) may be useful."
   ]
  },
  {
   "cell_type": "code",
   "execution_count": null,
   "metadata": {
    "colab": {
     "base_uri": "https://localhost:8080/"
    },
    "executionInfo": {
     "elapsed": 802,
     "status": "ok",
     "timestamp": 1721800814890,
     "user": {
      "displayName": "K Chauncey",
      "userId": "01082062638203565386"
     },
     "user_tz": -480
    },
    "id": "sZD1VQHKVTRQ",
    "outputId": "03da97de-9334-4388-c2c1-bc59ad226d9d"
   },
   "outputs": [
    {
     "name": "stdout",
     "output_type": "stream",
     "text": [
      "z1 difference:  0.0\n",
      "z1 difference within tolerance:  True\n",
      "\n",
      "z2 difference:  4.76837158203125e-07\n",
      "z2 difference within tolerance:  True\n"
     ]
    }
   ],
   "source": [
    "from pytorch101 import batched_matrix_multiply\n",
    "\n",
    "B, N, M, P = 2, 3, 5, 4\n",
    "x = torch.randn(B, N, M)\n",
    "y = torch.randn(B, M, P)\n",
    "z_expected = torch.stack([x[0] @ y[0], x[1] @ y[1]])\n",
    "\n",
    "# The two may not return exactly the same result; different linear algebra\n",
    "# routines often return slightly different results due to the fact that\n",
    "# floating-point math is non-exact and non-associative.\n",
    "z1 = batched_matrix_multiply(x, y, use_loop=True)\n",
    "z1_diff = (z1 - z_expected).abs().max().item()\n",
    "print('z1 difference: ', z1_diff)\n",
    "print('z1 difference within tolerance: ', z1_diff < 1e-6)\n",
    "\n",
    "z2 = batched_matrix_multiply(x, y, use_loop=False)\n",
    "z2_diff = (z2 - z_expected).abs().max().item()\n",
    "print('\\nz2 difference: ', z2_diff)\n",
    "print('z2 difference within tolerance: ', z2_diff < 1e-6)"
   ]
  },
  {
   "cell_type": "markdown",
   "metadata": {
    "id": "mbCVOr2sVTRR"
   },
   "source": [
    "### Vectorization\n",
    "In many cases, avoiding explicit Python loops in your code and instead using PyTorch operators to handle looping internally will cause your code to run a lot faster. This style of writing code, called **vectorization**, avoids overhead from the Python interpreter, and can also better parallelize the computation (e.g. across CPU cores, on on GPUs). Whenever possible you should strive to write vectorized code.\n",
    "\n",
    "Run the following the compare the speed of the `batched_matrix_multiply` with `use_loop=True` and with `use_loop=False`."
   ]
  },
  {
   "cell_type": "code",
   "execution_count": null,
   "metadata": {
    "colab": {
     "base_uri": "https://localhost:8080/",
     "height": 348
    },
    "executionInfo": {
     "elapsed": 7696,
     "status": "ok",
     "timestamp": 1721800918852,
     "user": {
      "displayName": "K Chauncey",
      "userId": "01082062638203565386"
     },
     "user_tz": -480
    },
    "id": "a-acTIOpVTRR",
    "outputId": "4d9660e7-381c-4909-9ef0-3311f45838e0"
   },
   "outputs": [
    {
     "data": {
      "image/png": "[encoded data removed]",
      "text/plain": [
       "<Figure size 1200x400 with 2 Axes>"
      ]
     },
     "metadata": {},
     "output_type": "display_data"
    }
   ],
   "source": [
    "import time\n",
    "import matplotlib.pyplot as plt\n",
    "from pytorch101 import batched_matrix_multiply\n",
    "\n",
    "N, M, P = 64, 64, 64\n",
    "loop_times = []\n",
    "no_loop_times = []\n",
    "no_loop_speedup = []\n",
    "Bs = list(range(4, 128, 4))\n",
    "num_trials = 20\n",
    "for B in Bs:\n",
    "    loop_trials = []\n",
    "    no_loop_trials = []\n",
    "    for trial in range(num_trials):\n",
    "        x = torch.randn(B, N, M)\n",
    "        y = torch.randn(B, M, P)\n",
    "        t0 = time.time()\n",
    "        z1 = batched_matrix_multiply(x, y, use_loop=True)\n",
    "        t1 = time.time()\n",
    "        z2 = batched_matrix_multiply(x, y, use_loop=False)\n",
    "        t2 = time.time()\n",
    "        loop_trials.append(t1 - t0)\n",
    "        no_loop_trials.append(t2 - t1)\n",
    "    loop_mean = torch.tensor(loop_trials).mean().item()\n",
    "    no_loop_mean = torch.tensor(no_loop_trials).mean().item()\n",
    "    loop_times.append(loop_mean)\n",
    "    no_loop_times.append(no_loop_mean)\n",
    "    no_loop_speedup.append(loop_mean / no_loop_mean)\n",
    "\n",
    "plt.subplot(1, 2, 1)\n",
    "plt.plot(Bs, loop_times, 'o-', label='use_loop=True')\n",
    "plt.plot(Bs, no_loop_times, 'o-', label='use_loop=False')\n",
    "plt.xlabel('Batch size B')\n",
    "plt.ylabel('Runtime (s)')\n",
    "plt.legend(fontsize=14)\n",
    "plt.title('Loop vs Vectorized speeds')\n",
    "\n",
    "plt.subplot(1, 2, 2)\n",
    "plt.plot(Bs, no_loop_speedup, '-o')\n",
    "plt.title('Vectorized speedup')\n",
    "plt.xlabel('Batch size B')\n",
    "plt.ylabel('Vectorized speedup')\n",
    "\n",
    "plt.gcf().set_size_inches(12, 4)\n",
    "plt.show()"
   ]
  },
  {
   "cell_type": "markdown",
   "metadata": {
    "id": "UISn2pcf9QjY"
   },
   "source": [
    "## Broadcasting"
   ]
  },
  {
   "cell_type": "markdown",
   "metadata": {
    "id": "fTj6f8VN9UZg"
   },
   "source": [
    "Broadcasting is a powerful mechanism that allows PyTorch to work with arrays of different shapes when performing arithmetic operations. Frequently we have a smaller tensor and a larger tensor, and we want to use the smaller tensor multiple times to perform some operation on the larger tensor.\n",
    "\n",
    "For example, suppose that we want to add a constant vector to each row of a tensor. We could do it like this:\n"
   ]
  },
  {
   "cell_type": "code",
   "execution_count": null,
   "metadata": {
    "colab": {
     "base_uri": "https://localhost:8080/"
    },
    "executionInfo": {
     "elapsed": 422,
     "status": "ok",
     "timestamp": 1721801678689,
     "user": {
      "displayName": "K Chauncey",
      "userId": "01082062638203565386"
     },
     "user_tz": -480
    },
    "id": "kF0Dhzlu9fef",
    "outputId": "5feacf6b-fb7b-4c83-c883-fa28a63e6d06"
   },
   "outputs": [
    {
     "name": "stdout",
     "output_type": "stream",
     "text": [
      "tensor([[ 2,  2,  4],\n",
      "        [ 5,  5,  7],\n",
      "        [ 8,  8, 10],\n",
      "        [11, 11, 13]])\n"
     ]
    }
   ],
   "source": [
    "# We will add the vector v to each row of the matrix x,\n",
    "# storing the result in the matrix y\n",
    "x = torch.tensor([[1,2,3], [4,5,6], [7,8,9], [10, 11, 12]])\n",
    "v = torch.tensor([1, 0, 1])\n",
    "y = torch.zeros_like(x)   # Create an empty matrix with the same shape as x\n",
    "\n",
    "# Add the vector v to each row of the matrix x with an explicit loop\n",
    "for i in range(4):\n",
    "    y[i, :] = x[i, :] + v\n",
    "\n",
    "print(y)"
   ]
  },
  {
   "cell_type": "markdown",
   "metadata": {
    "id": "7gXpoBKE9vp7"
   },
   "source": [
    "This works; however when the tensor x is very large, computing an explicit loop in Python could be slow. Note that adding the vector v to each row of the tensor x is equivalent to forming a tensor vv by stacking multiple copies of v vertically, then performing elementwise summation of x and vv. We could implement this approach like this:\n"
   ]
  },
  {
   "cell_type": "code",
   "execution_count": null,
   "metadata": {
    "colab": {
     "base_uri": "https://localhost:8080/"
    },
    "executionInfo": {
     "elapsed": 447,
     "status": "ok",
     "timestamp": 1721801789386,
     "user": {
      "displayName": "K Chauncey",
      "userId": "01082062638203565386"
     },
     "user_tz": -480
    },
    "id": "_2_5cKeu94c2",
    "outputId": "3dcee00d-e8dc-4b66-99f1-e6979363f105"
   },
   "outputs": [
    {
     "name": "stdout",
     "output_type": "stream",
     "text": [
      "tensor([[1, 0, 1],\n",
      "        [1, 0, 1],\n",
      "        [1, 0, 1],\n",
      "        [1, 0, 1]])\n"
     ]
    }
   ],
   "source": [
    "vv = v.repeat((4, 1))  # Stack 4 copies of v on top of each other\n",
    "print(vv)              # Prints \"[[1 0 1]\n",
    "                       #          [1 0 1]\n",
    "                       #          [1 0 1]\n",
    "                       #          [1 0 1]]\""
   ]
  },
  {
   "cell_type": "code",
   "execution_count": null,
   "metadata": {
    "colab": {
     "base_uri": "https://localhost:8080/"
    },
    "executionInfo": {
     "elapsed": 388,
     "status": "ok",
     "timestamp": 1721801830889,
     "user": {
      "displayName": "K Chauncey",
      "userId": "01082062638203565386"
     },
     "user_tz": -480
    },
    "id": "1KiRj23p-QIs",
    "outputId": "e4f0769b-ac1b-44df-855b-cf1932f8e469"
   },
   "outputs": [
    {
     "name": "stdout",
     "output_type": "stream",
     "text": [
      "tensor([[ 2,  2,  4],\n",
      "        [ 5,  5,  7],\n",
      "        [ 8,  8, 10],\n",
      "        [11, 11, 13]])\n"
     ]
    }
   ],
   "source": [
    "y = x + vv  # Add x and vv elementwise\n",
    "print(y)"
   ]
  },
  {
   "cell_type": "markdown",
   "metadata": {
    "id": "A7NNlSsHBKib"
   },
   "source": [
    "PyTorch broadcasting allows us to perform this computation without actually creating multiple copies of v. Consider this version, using broadcasting:"
   ]
  },
  {
   "cell_type": "code",
   "execution_count": null,
   "metadata": {
    "colab": {
     "base_uri": "https://localhost:8080/"
    },
    "executionInfo": {
     "elapsed": 397,
     "status": "ok",
     "timestamp": 1721801872032,
     "user": {
      "displayName": "K Chauncey",
      "userId": "01082062638203565386"
     },
     "user_tz": -480
    },
    "id": "2jIiZc-ABBnt",
    "outputId": "99cc25f1-65fa-4758-9523-7d42ab228a0b"
   },
   "outputs": [
    {
     "name": "stdout",
     "output_type": "stream",
     "text": [
      "tensor([[ 2,  2,  4],\n",
      "        [ 5,  5,  7],\n",
      "        [ 8,  8, 10],\n",
      "        [11, 11, 13]])\n"
     ]
    }
   ],
   "source": [
    "# We will add the vector v to each row of the matrix x,\n",
    "# storing the result in the matrix y\n",
    "x = torch.tensor([[1,2,3], [4,5,6], [7,8,9], [10, 11, 12]])\n",
    "v = torch.tensor([1, 0, 1])\n",
    "y = x + v  # Add v to each row of x using broadcasting\n",
    "print(y)"
   ]
  },
  {
   "cell_type": "markdown",
   "metadata": {
    "id": "HuUBX8YnBSIG"
   },
   "source": [
    "The line y = x + v works even though x has shape (4, 3) and v has shape (3,) due to broadcasting; this line works as if v actually had shape (4, 3), where each row was a copy of v, and the sum was performed elementwise.\n",
    "\n",
    "Broadcasting two tensors together follows these rules:\n",
    "\n",
    "1.   If the tensors do not have the same rank, prepend the shape of the lower rank array with 1s until both shapes have the same length.\n",
    "2.   The two tensors are said to be *compatible* in a dimension if they have the same size in the dimension, or if one of the tensors has size 1 in that dimension.\n",
    "3.   The tensors can be broadcast together if they are compatible in all dimensions.\n",
    "4.   After broadcasting, each tensor behaves as if it had shape equal to the elementwise maximum of shapes of the two input tensors.\n",
    "5.   In any dimension where one tensor had size 1 and the other tensor had size greater than 1, the first tensor behaves as if it were copied along that dimension\n",
    "\n",
    "If this explanation does not make sense, try reading the explanation from the [documentation](https://pytorch.org/docs/stable/notes/broadcasting.html).\n",
    "\n",
    "Broadcasting usually happens implicitly inside many PyTorch operators. However we can also broadcast explicitly using the function [`torch.broadcast_tensors`](https://pytorch.org/docs/stable/generated/torch.broadcast_tensors.html#torch.broadcast_tensors):"
   ]
  },
  {
   "cell_type": "code",
   "execution_count": null,
   "metadata": {
    "colab": {
     "base_uri": "https://localhost:8080/"
    },
    "executionInfo": {
     "elapsed": 404,
     "status": "ok",
     "timestamp": 1721802127456,
     "user": {
      "displayName": "K Chauncey",
      "userId": "01082062638203565386"
     },
     "user_tz": -480
    },
    "id": "YIlIBao3VTRc",
    "outputId": "fcb99bfb-c5ed-4b07-ba79-992c3ed20824"
   },
   "outputs": [
    {
     "name": "stdout",
     "output_type": "stream",
     "text": [
      "Here is x (before broadcasting):\n",
      "tensor([[ 1,  2,  3],\n",
      "        [ 4,  5,  6],\n",
      "        [ 7,  8,  9],\n",
      "        [10, 11, 12]])\n",
      "x.shape:  torch.Size([4, 3])\n",
      "\n",
      "Here is v (before broadcasting):\n",
      "tensor([1, 0, 1])\n",
      "v.shape:  torch.Size([3])\n",
      "Here is xx (after) broadcasting):\n",
      "tensor([[ 1,  2,  3],\n",
      "        [ 4,  5,  6],\n",
      "        [ 7,  8,  9],\n",
      "        [10, 11, 12]])\n",
      "xx.shape:  torch.Size([4, 3])\n",
      "\n",
      "Here is vv (after broadcasting):\n",
      "tensor([[1, 0, 1],\n",
      "        [1, 0, 1],\n",
      "        [1, 0, 1],\n",
      "        [1, 0, 1]])\n",
      "vv.shape:  torch.Size([4, 3])\n"
     ]
    }
   ],
   "source": [
    "x = torch.tensor([[1, 2, 3], [4, 5, 6], [7, 8, 9], [10, 11, 12]])\n",
    "v = torch.tensor([1, 0, 1])\n",
    "print('Here is x (before broadcasting):')\n",
    "print(x)\n",
    "print('x.shape: ', x.shape)\n",
    "print('\\nHere is v (before broadcasting):')\n",
    "print(v)\n",
    "print('v.shape: ', v.shape)\n",
    "\n",
    "xx, vv = torch.broadcast_tensors(x, v)\n",
    "print('Here is xx (after) broadcasting):')\n",
    "print(xx)\n",
    "print('xx.shape: ', x.shape)\n",
    "print('\\nHere is vv (after broadcasting):')\n",
    "print(vv)\n",
    "print('vv.shape: ', vv.shape)"
   ]
  },
  {
   "cell_type": "markdown",
   "metadata": {
    "id": "PWXtBo6eVTRf"
   },
   "source": [
    "Notice that after broadcasting, `x` remains the same but `v` has an extra dimension prepended to its shape, and it is duplicated to have the same shape as `x`; since they have the same shape after broadcasting they can be added elementwise.\n",
    "\n",
    "All elementwise functions support broadcasting.\n",
    "Some non-elementwise functions (such as linear algebra routines) also support broadcasting;\n",
    "you can check the documentation to tell whether any particular function supports broadcasting.\n",
    "For example [`torch.mm`](https://pytorch.org/docs/stable/generated/torch.mm.html) does not support broadcasting,\n",
    "but [`torch.matmul`](https://pytorch.org/docs/stable/generated/torch.matmul.html) does.\n",
    "\n",
    "Broadcasting can let us easily implement many different operations. For example we can compute an outer product of vectors:"
   ]
  },
  {
   "cell_type": "code",
   "execution_count": null,
   "metadata": {
    "colab": {
     "base_uri": "https://localhost:8080/"
    },
    "executionInfo": {
     "elapsed": 380,
     "status": "ok",
     "timestamp": 1721803435487,
     "user": {
      "displayName": "K Chauncey",
      "userId": "01082062638203565386"
     },
     "user_tz": -480
    },
    "id": "_W-k7-hpCwlT",
    "outputId": "79ea401d-a385-4f5d-d37d-9c6c96c71957"
   },
   "outputs": [
    {
     "name": "stdout",
     "output_type": "stream",
     "text": [
      "tensor([[ 4,  5],\n",
      "        [ 8, 10],\n",
      "        [12, 15]])\n"
     ]
    }
   ],
   "source": [
    "# Compute outer product of vectors\n",
    "v = torch.tensor([1, 2, 3])  # v has shape (3,)\n",
    "w = torch.tensor([4, 5])     # w has shape (2,)\n",
    "# To compute an outer product, we first reshape v to be a column\n",
    "# vector of shape (3, 1); we can then broadcast it against w to yield\n",
    "# an output of shape (3, 2), which is the outer product of v and w:\n",
    "print(v.view(3, 1) * w)"
   ]
  },
  {
   "cell_type": "markdown",
   "metadata": {
    "id": "6a9EcX20moP_"
   },
   "source": [
    "We can add a vector to each row of a matrix:"
   ]
  },
  {
   "cell_type": "code",
   "execution_count": null,
   "metadata": {
    "colab": {
     "base_uri": "https://localhost:8080/"
    },
    "executionInfo": {
     "elapsed": 374,
     "status": "ok",
     "timestamp": 1721803560665,
     "user": {
      "displayName": "K Chauncey",
      "userId": "01082062638203565386"
     },
     "user_tz": -480
    },
    "id": "9bhmBiwcDF1B",
    "outputId": "f5b8dff0-df13-4d50-c1ee-b45f850e7d39"
   },
   "outputs": [
    {
     "name": "stdout",
     "output_type": "stream",
     "text": [
      "Here is the matrix:\n",
      "tensor([[1, 2, 3],\n",
      "        [4, 5, 6]])\n",
      "\n",
      "Here is the vector:\n",
      "tensor([1, 2, 3])\n",
      "\n",
      "Add the vector to each row of the matrix:\n",
      "tensor([[2, 4, 6],\n",
      "        [5, 7, 9]])\n"
     ]
    }
   ],
   "source": [
    "x = torch.tensor([[1, 2, 3], [4, 5, 6]])  # x has shape (2, 3)\n",
    "v = torch.tensor([1, 2, 3])               # v has shape (3,)\n",
    "print('Here is the matrix:')\n",
    "print(x)\n",
    "print('\\nHere is the vector:')\n",
    "print(v)\n",
    "\n",
    "# x has shape (2, 3) and v has shape (3,) so they broadcast to (2, 3),\n",
    "# giving the following matrix:\n",
    "print('\\nAdd the vector to each row of the matrix:')\n",
    "print(x + v)"
   ]
  },
  {
   "cell_type": "markdown",
   "metadata": {
    "id": "jYloJIvmm_Me"
   },
   "source": [
    "We can add a vector to each column of a matrix:"
   ]
  },
  {
   "cell_type": "code",
   "execution_count": null,
   "metadata": {
    "colab": {
     "base_uri": "https://localhost:8080/"
    },
    "executionInfo": {
     "elapsed": 384,
     "status": "ok",
     "timestamp": 1721804294195,
     "user": {
      "displayName": "K Chauncey",
      "userId": "01082062638203565386"
     },
     "user_tz": -480
    },
    "id": "TDTFKACqDK22",
    "outputId": "270e1232-87ab-4626-9424-b3391e399d2f"
   },
   "outputs": [
    {
     "name": "stdout",
     "output_type": "stream",
     "text": [
      "Here is the matrix:\n",
      "tensor([[1, 2, 3],\n",
      "        [4, 5, 6]])\n",
      "\n",
      "Here is the vector:\n",
      "tensor([4, 5])\n",
      "\n",
      "Add the vector to each column of the matrix:\n",
      "tensor([[ 5,  6,  7],\n",
      "        [ 9, 10, 11]])\n",
      "tensor([[ 5,  6,  7],\n",
      "        [ 9, 10, 11]])\n"
     ]
    }
   ],
   "source": [
    "x = torch.tensor([[1, 2, 3], [4, 5, 6]])  # x has shape (2, 3)\n",
    "w = torch.tensor([4, 5])                  # w has shape (2,)\n",
    "print('Here is the matrix:')\n",
    "print(x)\n",
    "print('\\nHere is the vector:')\n",
    "print(w)\n",
    "\n",
    "# x has shape (2, 3) and w has shape (2,). We reshape w to (2, 1);\n",
    "# then when we add the two the result broadcasts to (2, 3):\n",
    "print('\\nAdd the vector to each column of the matrix:')\n",
    "print(x + w.view(-1, 1))\n",
    "\n",
    "# Another solution is the following:\n",
    "# 1. Transpose x so it has shape (3, 2)\n",
    "# 2. Since w has shape (2,), adding will broadcast to (3, 2)\n",
    "# 3. Transpose the result, resulting in a shape (2, 3)\n",
    "print((x.t() + w).t())"
   ]
  },
  {
   "cell_type": "markdown",
   "metadata": {
    "id": "9717YmBBpBfr"
   },
   "source": [
    "Multiply a tensor by a set of constants:"
   ]
  },
  {
   "cell_type": "code",
   "execution_count": null,
   "metadata": {
    "colab": {
     "base_uri": "https://localhost:8080/"
    },
    "executionInfo": {
     "elapsed": 356,
     "status": "ok",
     "timestamp": 1721804429219,
     "user": {
      "displayName": "K Chauncey",
      "userId": "01082062638203565386"
     },
     "user_tz": -480
    },
    "id": "4UjWDp_XDc_-",
    "outputId": "0a04213b-cc56-4e40-ae45-a5f47d58da80"
   },
   "outputs": [
    {
     "name": "stdout",
     "output_type": "stream",
     "text": [
      "Here is the matrix:\n",
      "tensor([[1, 2, 3],\n",
      "        [4, 5, 6]])\n",
      "\n",
      "Here is the vector:\n",
      "tensor([  1,  10,  11, 100])\n",
      "\n",
      "Multiply x by a set of constants:\n",
      "tensor([[[  1,   2,   3],\n",
      "         [  4,   5,   6]],\n",
      "\n",
      "        [[ 10,  20,  30],\n",
      "         [ 40,  50,  60]],\n",
      "\n",
      "        [[ 11,  22,  33],\n",
      "         [ 44,  55,  66]],\n",
      "\n",
      "        [[100, 200, 300],\n",
      "         [400, 500, 600]]])\n"
     ]
    }
   ],
   "source": [
    "x = torch.tensor([[1, 2, 3], [4, 5, 6]])  # x has shape (2, 3)\n",
    "c = torch.tensor([1, 10, 11, 100])        # c has shape (4)\n",
    "print('Here is the matrix:')\n",
    "print(x)\n",
    "print('\\nHere is the vector:')\n",
    "print(c)\n",
    "\n",
    "# We do the following:\n",
    "# 1. Reshape c from (4,) to (4, 1, 1)\n",
    "# 2. x has shape (2, 3). Since they have different ranks, when we multiply the\n",
    "#    two, x behaves as if its shape were (1, 2, 3)\n",
    "# 3. The result of the broadcast multiplication between tensor of shape\n",
    "#    (4, 1, 1) and (1, 2, 3) has shape (4, 2, 3)\n",
    "# 4. The result y has shape (4, 2, 3), and y[i] (shape (2, 3)) is equal to\n",
    "#    c[i] * x\n",
    "y = c.view(-1, 1, 1) * x\n",
    "print('\\nMultiply x by a set of constants:')\n",
    "print(y)"
   ]
  },
  {
   "cell_type": "markdown",
   "metadata": {
    "id": "J2EHXFBFq1ea"
   },
   "source": [
    "**Your turn**: In the file `pytorch101.py`, implement the function `normalize_columns` that normalizes the columns of a matrix. It should compute the mean and standard deviation of each column, then subtract the mean and divide by the standard deviation for each element in the column.\n",
    "\n",
    "Example:\n",
    "```\n",
    "x = [[ 0,  30,  600],\n",
    "     [ 1,  10,  200],\n",
    "     [-1,  20,  400]]\n",
    "```\n",
    "- The first column has mean 0 and std 1\n",
    "- The second column has mean 20 and std 10\n",
    "- The third column has mean 400 and std 200\n",
    "\n",
    "After normalizing the columns, the result should be:\n",
    "```\n",
    "y = [[ 0,  1,  1],\n",
    "     [ 1, -1, -1],\n",
    "     [-1,  0,  0]]\n",
    "```\n",
    "\n",
    "Recall that given scalars $x_1,\\ldots,x_M$ the mean $\\mu$ and standard deviation $\\sigma$ are given by\n",
    "\n",
    "$$\\mu=\\frac{1}{M}\\sum_{i=1}^M x_i \\hspace{4pc} \\sigma = \\sqrt{\\frac{1}{M-1}\\sum_{i=1}^M(x_i-\\mu)^2}$$"
   ]
  },
  {
   "cell_type": "code",
   "execution_count": null,
   "metadata": {
    "colab": {
     "base_uri": "https://localhost:8080/"
    },
    "executionInfo": {
     "elapsed": 763,
     "status": "ok",
     "timestamp": 1721805353898,
     "user": {
      "displayName": "K Chauncey",
      "userId": "01082062638203565386"
     },
     "user_tz": -480
    },
    "id": "rVh1DMqMr3zl",
    "outputId": "c8f5ed2b-d7b9-4060-c465-38bc9cd7f2cc"
   },
   "outputs": [
    {
     "name": "stdout",
     "output_type": "stream",
     "text": [
      "Here is x:\n",
      "tensor([[  0.,  30., 600.],\n",
      "        [  1.,  10., 200.],\n",
      "        [ -1.,  20., 400.]])\n",
      "Here is y:\n",
      "tensor([[ 0.,  1.,  1.],\n",
      "        [ 1., -1., -1.],\n",
      "        [-1.,  0.,  0.]])\n",
      "y correct:  True\n",
      "x unchanged:  True\n"
     ]
    }
   ],
   "source": [
    "from pytorch101 import normalize_columns\n",
    "\n",
    "x = torch.tensor([[0., 30., 600.], [1., 10., 200.], [-1., 20., 400.]])\n",
    "y = normalize_columns(x)\n",
    "print('Here is x:')\n",
    "print(x)\n",
    "print('Here is y:')\n",
    "print(y)\n",
    "\n",
    "x_expected = [[0., 30., 600.], [1., 10., 200.], [-1., 20., 400.]]\n",
    "y_expected = [[0., 1., 1.], [1., -1., -1.], [-1., 0., 0.]]\n",
    "y_correct = y.tolist() == y_expected\n",
    "x_correct = x.tolist() == x_expected\n",
    "print('y correct: ', y_correct)\n",
    "print('x unchanged: ', x_correct)"
   ]
  },
  {
   "cell_type": "markdown",
   "metadata": {
    "id": "NlJs-yN4VTRp"
   },
   "source": [
    "### Out-of-place vs in-place operators\n",
    "Most PyTorch operators are classified into one of two categories:\n",
    "- **Out-of-place operators:** return a new tensor. Most PyTorch operators behave this way.\n",
    "- **In-place operators:** modify and return the input tensor. Instance methods that end with an underscore (such as `add_()` are in-place. Operators in the `torch` namespace can be made in-place using the `out=` keyword argument.\n",
    "\n",
    "For example:"
   ]
  },
  {
   "cell_type": "code",
   "execution_count": null,
   "metadata": {
    "colab": {
     "base_uri": "https://localhost:8080/"
    },
    "executionInfo": {
     "elapsed": 376,
     "status": "ok",
     "timestamp": 1721805584440,
     "user": {
      "displayName": "K Chauncey",
      "userId": "01082062638203565386"
     },
     "user_tz": -480
    },
    "id": "lnwGzmU9VTRp",
    "outputId": "5992d40b-3960-432d-ff4b-5bb2b5f8ea73"
   },
   "outputs": [
    {
     "name": "stdout",
     "output_type": "stream",
     "text": [
      "Out-of-place addition:\n",
      "Before addition:\n",
      "x:  tensor([1, 2, 3])\n",
      "y:  tensor([3, 4, 5])\n",
      "\n",
      "After addition (x and y unchanged):\n",
      "x:  tensor([1, 2, 3])\n",
      "y:  tensor([3, 4, 5])\n",
      "z:  tensor([4, 6, 8])\n",
      "z is x:  False\n",
      "z is y:  False\n",
      "\n",
      "\n",
      "In-place Addition:\n",
      "Before addition:\n",
      "x:  tensor([1, 2, 3])\n",
      "y:  tensor([3, 4, 5])\n",
      "\n",
      "After addition (x is modified):\n",
      "x:  tensor([4, 6, 8])\n",
      "y:  tensor([3, 4, 5])\n",
      "z:  tensor([4, 6, 8])\n",
      "z is x:  False\n",
      "z is y:  False\n"
     ]
    }
   ],
   "source": [
    "# Out-of-place addition creates and returns a new tensor without modifying the inputs:\n",
    "x = torch.tensor([1, 2, 3])\n",
    "y = torch.tensor([3, 4, 5])\n",
    "print('Out-of-place addition:')\n",
    "print('Before addition:')\n",
    "print('x: ', x)\n",
    "print('y: ', y)\n",
    "z = x.add(y)  # Same as z = x + y or z = torch.add(x, y)\n",
    "print('\\nAfter addition (x and y unchanged):')\n",
    "print('x: ', x)\n",
    "print('y: ', y)\n",
    "print('z: ', z)\n",
    "print('z is x: ', z is x)\n",
    "print('z is y: ', z is y)\n",
    "\n",
    "# In-place addition modifies the input tensor:\n",
    "print('\\n\\nIn-place Addition:')\n",
    "print('Before addition:')\n",
    "print('x: ', x)\n",
    "print('y: ', y)\n",
    "x.add_(y)  # Same as x += y or torch.add(x, y, out=x)\n",
    "print('\\nAfter addition (x is modified):')\n",
    "print('x: ', x)\n",
    "print('y: ', y)\n",
    "print('z: ', z)\n",
    "print('z is x: ', z is x)\n",
    "print('z is y: ', z is y)"
   ]
  },
  {
   "cell_type": "markdown",
   "metadata": {
    "id": "uNTk5heeVTRr"
   },
   "source": [
    "In general, **you should avoid in-place operations** since they can cause problems when computing gradients using autograd (which we will cover in a future assignment)."
   ]
  },
  {
   "cell_type": "markdown",
   "metadata": {
    "id": "uN6FfqU9wFeG"
   },
   "source": [
    "## Running on GPU"
   ]
  },
  {
   "cell_type": "markdown",
   "metadata": {
    "id": "Ds6SDTbrwOc1"
   },
   "source": [
    "**Note: this section requires a GPU! If you do not have a computer with a CUDA-enabled GPU, you can complete this portion of the notebook on Google Colab.**\n",
    "\n",
    "One of the most important features of PyTorch is that it can use graphics processing units (GPUs) to accelerate its tensor operations.\n",
    "\n",
    "We can easily check whether PyTorch is configured to use GPUs:\n",
    "\n",
    "Tensors can be moved onto any device using the .to method."
   ]
  },
  {
   "cell_type": "code",
   "execution_count": 1,
   "metadata": {
    "colab": {
     "base_uri": "https://localhost:8080/"
    },
    "executionInfo": {
     "elapsed": 378,
     "status": "ok",
     "timestamp": 1721806704140,
     "user": {
      "displayName": "K Chauncey",
      "userId": "01082062638203565386"
     },
     "user_tz": -480
    },
    "id": "_RkoFEVVKWlW",
    "outputId": "0ece7b12-e383-4d66-c4b5-466fc737b96b"
   },
   "outputs": [
    {
     "name": "stdout",
     "output_type": "stream",
     "text": [
      "PyTorch can use GPUs!\n"
     ]
    }
   ],
   "source": [
    "import torch\n",
    "\n",
    "if torch.cuda.is_available():\n",
    "  print('PyTorch can use GPUs!')\n",
    "else:\n",
    "  print('PyTorch cannot use GPUs.')"
   ]
  },
  {
   "cell_type": "markdown",
   "metadata": {
    "id": "7i_5n_XuKr5k"
   },
   "source": [
    "You can enable GPUs in Colab via Runtime -> Change Runtime Type -> Hardware Accelerator -> GPU.\n",
    "\n",
    "This may cause the Colab runtime to restart, so we will re-import torch in the next cell.\n",
    "\n",
    "We have already seen that PyTorch tensors have a `dtype` attribute specifying their datatype. All PyTorch tensors also have a `device` attribute that specifies the device where the tensor is stored -- either CPU, or CUDA (for NVIDA GPUs). A tensor on a CUDA device will automatically use that device to accelerate all of its operations.\n",
    "\n",
    "Just as with datatypes, we can use the [`.to()`](https://pytorch.org/docs/1.1.0/tensors.html#torch.Tensor.to) method to change the device of a tensor. We can also use the convenience methods `.cuda()` and `.cpu()` methods to move tensors between CPU and GPU."
   ]
  },
  {
   "cell_type": "code",
   "execution_count": null,
   "metadata": {
    "colab": {
     "base_uri": "https://localhost:8080/",
     "height": 367
    },
    "executionInfo": {
     "elapsed": 386,
     "status": "error",
     "timestamp": 1721806086587,
     "user": {
      "displayName": "K Chauncey",
      "userId": "01082062638203565386"
     },
     "user_tz": -480
    },
    "id": "D03s614dMCvy",
    "outputId": "c7d86280-f75a-4271-9d76-6b463fdab47b"
   },
   "outputs": [
    {
     "name": "stdout",
     "output_type": "stream",
     "text": [
      "x0 device: cpu\n"
     ]
    },
    {
     "ename": "RuntimeError",
     "evalue": "Found no NVIDIA driver on your system. Please check that you have an NVIDIA GPU and installed a driver from http://www.nvidia.com/Download/index.aspx",
     "output_type": "error",
     "traceback": [
      "\u001b[0;31m---------------------------------------------------------------------------\u001b[0m",
      "\u001b[0;31mRuntimeError\u001b[0m                              Traceback (most recent call last)",
      "\u001b[0;32m<ipython-input-145-7bde413acd35>\u001b[0m in \u001b[0;36m<cell line: 6>\u001b[0;34m()\u001b[0m\n\u001b[1;32m      4\u001b[0m \u001b[0;34m\u001b[0m\u001b[0m\n\u001b[1;32m      5\u001b[0m \u001b[0;31m# Move it to the GPU using .to()\u001b[0m\u001b[0;34m\u001b[0m\u001b[0;34m\u001b[0m\u001b[0m\n\u001b[0;32m----> 6\u001b[0;31m \u001b[0mx1\u001b[0m \u001b[0;34m=\u001b[0m \u001b[0mx0\u001b[0m\u001b[0;34m.\u001b[0m\u001b[0mto\u001b[0m\u001b[0;34m(\u001b[0m\u001b[0;34m'cuda'\u001b[0m\u001b[0;34m)\u001b[0m\u001b[0;34m\u001b[0m\u001b[0;34m\u001b[0m\u001b[0m\n\u001b[0m\u001b[1;32m      7\u001b[0m \u001b[0mprint\u001b[0m\u001b[0;34m(\u001b[0m\u001b[0;34m'x1 device:'\u001b[0m\u001b[0;34m,\u001b[0m \u001b[0mx1\u001b[0m\u001b[0;34m.\u001b[0m\u001b[0mdevice\u001b[0m\u001b[0;34m)\u001b[0m\u001b[0;34m\u001b[0m\u001b[0;34m\u001b[0m\u001b[0m\n\u001b[1;32m      8\u001b[0m \u001b[0;34m\u001b[0m\u001b[0m\n",
      "\u001b[0;32m/usr/local/lib/python3.10/dist-packages/torch/cuda/__init__.py\u001b[0m in \u001b[0;36m_lazy_init\u001b[0;34m()\u001b[0m\n\u001b[1;32m    291\u001b[0m         \u001b[0;32mif\u001b[0m \u001b[0;34m\"CUDA_MODULE_LOADING\"\u001b[0m \u001b[0;32mnot\u001b[0m \u001b[0;32min\u001b[0m \u001b[0mos\u001b[0m\u001b[0;34m.\u001b[0m\u001b[0menviron\u001b[0m\u001b[0;34m:\u001b[0m\u001b[0;34m\u001b[0m\u001b[0;34m\u001b[0m\u001b[0m\n\u001b[1;32m    292\u001b[0m             \u001b[0mos\u001b[0m\u001b[0;34m.\u001b[0m\u001b[0menviron\u001b[0m\u001b[0;34m[\u001b[0m\u001b[0;34m\"CUDA_MODULE_LOADING\"\u001b[0m\u001b[0;34m]\u001b[0m \u001b[0;34m=\u001b[0m \u001b[0;34m\"LAZY\"\u001b[0m\u001b[0;34m\u001b[0m\u001b[0;34m\u001b[0m\u001b[0m\n\u001b[0;32m--> 293\u001b[0;31m         \u001b[0mtorch\u001b[0m\u001b[0;34m.\u001b[0m\u001b[0m_C\u001b[0m\u001b[0;34m.\u001b[0m\u001b[0m_cuda_init\u001b[0m\u001b[0;34m(\u001b[0m\u001b[0;34m)\u001b[0m\u001b[0;34m\u001b[0m\u001b[0;34m\u001b[0m\u001b[0m\n\u001b[0m\u001b[1;32m    294\u001b[0m         \u001b[0;31m# Some of the queued calls may reentrantly call _lazy_init();\u001b[0m\u001b[0;34m\u001b[0m\u001b[0;34m\u001b[0m\u001b[0m\n\u001b[1;32m    295\u001b[0m         \u001b[0;31m# we need to just return without initializing in that case.\u001b[0m\u001b[0;34m\u001b[0m\u001b[0;34m\u001b[0m\u001b[0m\n",
      "\u001b[0;31mRuntimeError\u001b[0m: Found no NVIDIA driver on your system. Please check that you have an NVIDIA GPU and installed a driver from http://www.nvidia.com/Download/index.aspx"
     ]
    }
   ],
   "source": [
    "# Construct a tensor on the CPU\n",
    "x0 = torch.tensor([[1, 2], [3, 4]], dtype=torch.float32)\n",
    "print('x0 device:', x0.device)\n",
    "\n",
    "# Move it to the GPU using .to()\n",
    "x1 = x0.to('cuda')\n",
    "print('x1 device:', x1.device)\n",
    "\n",
    "# Move it to the GPU using .cuda()\n",
    "x2 = x0.cuda()\n",
    "print('x2 device:', x2.device)\n",
    "\n",
    "# Move it back to the CPU using .to()\n",
    "x3 = x1.to('cpu')\n",
    "print('x3 device:', x3.device)\n",
    "\n",
    "# Move it back to the CPU using .cpu()\n",
    "x4 = x2.cpu()\n",
    "print('x4 device:', x4.device)\n",
    "\n",
    "# We can construct tensors directly on the GPU as well\n",
    "y = torch.tensor([[1, 2, 3], [4, 5, 6]], dtype=torch.float64, device='cuda')\n",
    "print('y device / dtype:', y.device, y.dtype)\n",
    "\n",
    "# Calling x.to(y) where y is a tensor will return a copy of x with the same\n",
    "# device and dtype as y\n",
    "x5 = x0.to(y)\n",
    "print('x5 device / dtype:', x5.device, x5.dtype)"
   ]
  },
  {
   "cell_type": "markdown",
   "metadata": {
    "id": "O-TDxICdOmJo"
   },
   "source": [
    "Performing large tensor operations on a GPU can be **a lot faster** than running the equivalent operation on CPU.\n",
    "\n",
    "Here we compare the speed of adding two tensors of shape (10000, 10000) on CPU and GPU:\n",
    "\n",
    "(Note that GPU code may run asynchronously with CPU code, so when timing the speed of operations on the GPU it is important to use `torch.cuda.synchronize` to synchronize the CPU and GPU.)"
   ]
  },
  {
   "cell_type": "code",
   "execution_count": null,
   "metadata": {
    "id": "GW14ZF-_PK7t"
   },
   "outputs": [],
   "source": [
    "import time\n",
    "\n",
    "a_cpu = torch.randn(10000, 10000, dtype=torch.float32)\n",
    "b_cpu = torch.randn(10000, 10000, dtype=torch.float32)\n",
    "\n",
    "a_gpu = a_cpu.cuda()\n",
    "b_gpu = b_cpu.cuda()\n",
    "torch.cuda.synchronize()\n",
    "\n",
    "t0 = time.time()\n",
    "c_cpu = a_cpu + b_cpu\n",
    "t1 = time.time()\n",
    "c_gpu = a_gpu + b_gpu\n",
    "torch.cuda.synchronize()\n",
    "t2 = time.time()\n",
    "\n",
    "# Check that they computed the same thing\n",
    "diff = (c_gpu.cpu() - c_cpu).abs().max().item()\n",
    "print('Max difference between c_gpu and c_cpu:', diff)\n",
    "\n",
    "cpu_time = 1000.0 * (t1 - t0)\n",
    "gpu_time = 1000.0 * (t2 - t1)\n",
    "print('CPU time: %.2f ms' % cpu_time)\n",
    "print('GPU time: %.2f ms' % gpu_time)\n",
    "print('GPU speedup: %.2f x' % (cpu_time / gpu_time))"
   ]
  },
  {
   "cell_type": "markdown",
   "metadata": {
    "id": "7HEAVPEwviYb"
   },
   "source": [
    "You should see that running the same computation on the GPU was more than 10~30 times faster than on the CPU! Due to the massive speedups that GPUs offer, we will use GPUs to accelerate much of our machine learning code starting in Assignment 2.\n",
    "\n",
    "**Your turn**: Use the GPU to accelerate the following matrix multiplication operation. You should see 5~10x speedup by using the GPU."
   ]
  },
  {
   "cell_type": "code",
   "execution_count": null,
   "metadata": {
    "id": "uqEUdst7SAuZ"
   },
   "outputs": [],
   "source": [
    "import time\n",
    "from pytorch101 import mm_on_cpu, mm_on_gpu\n",
    "\n",
    "x = torch.rand(512, 4096)\n",
    "w = torch.rand(4096, 4096)\n",
    "\n",
    "t0 = time.time()\n",
    "y0 = mm_on_cpu(x, w)\n",
    "t1 = time.time()\n",
    "\n",
    "y1 = mm_on_gpu(x, w)\n",
    "torch.cuda.synchronize()\n",
    "t2 = time.time()\n",
    "\n",
    "print('y1 on CPU:', y1.device == torch.device('cpu'))\n",
    "diff = (y0 - y1).abs().max().item()\n",
    "print('Max difference between y0 and y1:', diff)\n",
    "print('Difference within tolerance:', diff < 5e-2)\n",
    "\n",
    "cpu_time = 1000.0 * (t1 - t0)\n",
    "gpu_time = 1000.0 * (t2 - t1)\n",
    "print('CPU time: %.2f ms' % cpu_time)\n",
    "print('GPU time: %.2f ms' % gpu_time)\n",
    "print('GPU speedup: %.2f x' % (cpu_time / gpu_time))"
   ]
  },
  {
   "cell_type": "markdown",
   "metadata": {
    "id": "vekSz6WtpUXc"
   },
   "source": [
    "Done! Now you can move to kNN.ipynb. Before you move, please check whether you generated any additional cell in every ipynb file (e.g. empty cell after very last code cell)."
   ]
  }
 ],
 "metadata": {
  "accelerator": "GPU",
  "colab": {
   "collapsed_sections": [
    "kQndOAmiVTO3",
    "bCtoiSyVVTO8",
    "hQrEwOpXb9Gh",
    "zjosrOn8mOMV",
    "OgPaSNS2mVPn",
    "zeH5501nmh7W",
    "1MEmHrgBsgX4",
    "HrBSx6hYu8ca",
    "LWagwmXuvIle",
    "Yz_VDA3IvP33",
    "Rz_hiJD33fu1",
    "rlANfnILvX3S",
    "mo-PoTWNvbba",
    "4y93rPhGveWw",
    "oGt8ZPb_vixw",
    "Ad-xqELwyqpN",
    "Ql9_eXuU4OG8",
    "Z150qBob4Wkz",
    "f4SJCVbf-bZ0",
    "WJiiBxNE-X8g",
    "NgcdvD1evxTQ",
    "1BCVlPHZ4_Qz",
    "yDyH9USAuyZ-",
    "lRyLyXU2u29N",
    "mbCVOr2sVTRR",
    "UISn2pcf9QjY",
    "NlJs-yN4VTRp",
    "uN6FfqU9wFeG"
   ],
   "gpuType": "T4",
   "provenance": []
  },
  "kernelspec": {
   "display_name": "Python 3 (ipykernel)",
   "language": "python",
   "name": "python3"
  },
  "language_info": {
   "codemirror_mode": {
    "name": "ipython",
    "version": 3
   },
   "file_extension": ".py",
   "mimetype": "text/x-python",
   "name": "python",
   "nbconvert_exporter": "python",
   "pygments_lexer": "ipython3",
   "version": "3.9.16"
  }
 },
 "nbformat": 4,
 "nbformat_minor": 1
}
